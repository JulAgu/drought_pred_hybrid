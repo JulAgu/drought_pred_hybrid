{
 "cells": [
  {
   "cell_type": "code",
   "execution_count": 23,
   "metadata": {},
   "outputs": [],
   "source": [
    "import os\n",
    "import pandas as pd\n",
    "import scipy.stats as stats "
   ]
  },
  {
   "cell_type": "code",
   "execution_count": 24,
   "metadata": {},
   "outputs": [],
   "source": [
    "lista= os.listdir(\"../results\")\n",
    "lista = [x for x in lista if x.endswith(\".csv\")]"
   ]
  },
  {
   "cell_type": "code",
   "execution_count": 25,
   "metadata": {},
   "outputs": [],
   "source": [
    "df_lstm = pd.DataFrame(columns=['Model', 'MAE', 'RMSE', 'F1', 'Validation Loss'])\n",
    "df_model = pd.DataFrame(columns=['Model', 'MAE', 'RMSE', 'F1', 'Validation Loss'])"
   ]
  },
  {
   "cell_type": "code",
   "execution_count": 26,
   "metadata": {},
   "outputs": [
    {
     "name": "stderr",
     "output_type": "stream",
     "text": [
      "/tmp/ipykernel_1871815/1759376776.py:5: FutureWarning: The behavior of DataFrame concatenation with empty or all-NA entries is deprecated. In a future version, this will no longer exclude empty or all-NA columns when determining the result dtypes. To retain the old behavior, exclude the relevant entries before the concat operation.\n",
      "  df_model = pd.concat([df_model, pd.read_csv(\"../results/\"+result)])\n",
      "/tmp/ipykernel_1871815/1759376776.py:3: FutureWarning: The behavior of DataFrame concatenation with empty or all-NA entries is deprecated. In a future version, this will no longer exclude empty or all-NA columns when determining the result dtypes. To retain the old behavior, exclude the relevant entries before the concat operation.\n",
      "  df_lstm = pd.concat([df_lstm, pd.read_csv(\"../results/\"+result)])\n"
     ]
    }
   ],
   "source": [
    "for result in lista:\n",
    "    if result.startswith(\"lstm\"):\n",
    "        df_lstm = pd.concat([df_lstm, pd.read_csv(\"../results/\"+result)])\n",
    "    else:\n",
    "        df_model = pd.concat([df_model, pd.read_csv(\"../results/\"+result)])"
   ]
  },
  {
   "cell_type": "code",
   "execution_count": 53,
   "metadata": {},
   "outputs": [],
   "source": [
    "df_lstm = df_lstm.sort_values(by=['F1'], ascending=False)"
   ]
  },
  {
   "cell_type": "code",
   "execution_count": 54,
   "metadata": {},
   "outputs": [],
   "source": [
    "df_model = df_model.sort_values(by=['F1'], ascending=False)"
   ]
  },
  {
   "cell_type": "code",
   "execution_count": 55,
   "metadata": {},
   "outputs": [
    {
     "data": {
      "text/plain": [
       "[0.2538991069134187,\n",
       " 0.2994592699258278,\n",
       " 0.2443273164482053,\n",
       " 0.2663343940762408,\n",
       " 0.3023213467072537]"
      ]
     },
     "execution_count": 55,
     "metadata": {},
     "output_type": "execute_result"
    }
   ],
   "source": [
    "list(df_model[\"MAE\"])"
   ]
  },
  {
   "cell_type": "code",
   "execution_count": 60,
   "metadata": {},
   "outputs": [
    {
     "data": {
      "text/html": [
       "<div>\n",
       "<style scoped>\n",
       "    .dataframe tbody tr th:only-of-type {\n",
       "        vertical-align: middle;\n",
       "    }\n",
       "\n",
       "    .dataframe tbody tr th {\n",
       "        vertical-align: top;\n",
       "    }\n",
       "\n",
       "    .dataframe thead th {\n",
       "        text-align: right;\n",
       "    }\n",
       "</style>\n",
       "<table border=\"1\" class=\"dataframe\">\n",
       "  <thead>\n",
       "    <tr style=\"text-align: right;\">\n",
       "      <th></th>\n",
       "      <th>Model</th>\n",
       "      <th>MAE</th>\n",
       "      <th>RMSE</th>\n",
       "      <th>F1</th>\n",
       "      <th>Validation Loss</th>\n",
       "    </tr>\n",
       "  </thead>\n",
       "  <tbody>\n",
       "    <tr>\n",
       "      <th>0</th>\n",
       "      <td>Baseline</td>\n",
       "      <td>0.253899</td>\n",
       "      <td>0.403722</td>\n",
       "      <td>0.752163</td>\n",
       "      <td>0.223879</td>\n",
       "    </tr>\n",
       "    <tr>\n",
       "      <th>0</th>\n",
       "      <td>Baseline</td>\n",
       "      <td>0.299459</td>\n",
       "      <td>0.502376</td>\n",
       "      <td>0.710566</td>\n",
       "      <td>0.222378</td>\n",
       "    </tr>\n",
       "    <tr>\n",
       "      <th>0</th>\n",
       "      <td>Baseline</td>\n",
       "      <td>0.244327</td>\n",
       "      <td>0.432694</td>\n",
       "      <td>0.602184</td>\n",
       "      <td>0.220591</td>\n",
       "    </tr>\n",
       "    <tr>\n",
       "      <th>0</th>\n",
       "      <td>Baseline</td>\n",
       "      <td>0.266334</td>\n",
       "      <td>0.433279</td>\n",
       "      <td>0.598421</td>\n",
       "      <td>0.229074</td>\n",
       "    </tr>\n",
       "    <tr>\n",
       "      <th>0</th>\n",
       "      <td>Baseline</td>\n",
       "      <td>0.302321</td>\n",
       "      <td>0.519010</td>\n",
       "      <td>0.596659</td>\n",
       "      <td>0.226182</td>\n",
       "    </tr>\n",
       "  </tbody>\n",
       "</table>\n",
       "</div>"
      ],
      "text/plain": [
       "      Model       MAE      RMSE        F1  Validation Loss\n",
       "0  Baseline  0.253899  0.403722  0.752163         0.223879\n",
       "0  Baseline  0.299459  0.502376  0.710566         0.222378\n",
       "0  Baseline  0.244327  0.432694  0.602184         0.220591\n",
       "0  Baseline  0.266334  0.433279  0.598421         0.229074\n",
       "0  Baseline  0.302321  0.519010  0.596659         0.226182"
      ]
     },
     "execution_count": 60,
     "metadata": {},
     "output_type": "execute_result"
    }
   ],
   "source": [
    "df_model"
   ]
  },
  {
   "cell_type": "code",
   "execution_count": 61,
   "metadata": {},
   "outputs": [
    {
     "data": {
      "text/html": [
       "<div>\n",
       "<style scoped>\n",
       "    .dataframe tbody tr th:only-of-type {\n",
       "        vertical-align: middle;\n",
       "    }\n",
       "\n",
       "    .dataframe tbody tr th {\n",
       "        vertical-align: top;\n",
       "    }\n",
       "\n",
       "    .dataframe thead th {\n",
       "        text-align: right;\n",
       "    }\n",
       "</style>\n",
       "<table border=\"1\" class=\"dataframe\">\n",
       "  <thead>\n",
       "    <tr style=\"text-align: right;\">\n",
       "      <th></th>\n",
       "      <th>Model</th>\n",
       "      <th>MAE</th>\n",
       "      <th>RMSE</th>\n",
       "      <th>F1</th>\n",
       "      <th>Validation Loss</th>\n",
       "    </tr>\n",
       "  </thead>\n",
       "  <tbody>\n",
       "    <tr>\n",
       "      <th>0</th>\n",
       "      <td>Baseline</td>\n",
       "      <td>0.272450</td>\n",
       "      <td>0.443909</td>\n",
       "      <td>0.662212</td>\n",
       "      <td>0.223598</td>\n",
       "    </tr>\n",
       "    <tr>\n",
       "      <th>0</th>\n",
       "      <td>Baseline</td>\n",
       "      <td>0.310392</td>\n",
       "      <td>0.504331</td>\n",
       "      <td>0.638845</td>\n",
       "      <td>0.228126</td>\n",
       "    </tr>\n",
       "    <tr>\n",
       "      <th>0</th>\n",
       "      <td>Baseline</td>\n",
       "      <td>0.347129</td>\n",
       "      <td>0.553392</td>\n",
       "      <td>0.583458</td>\n",
       "      <td>0.234320</td>\n",
       "    </tr>\n",
       "    <tr>\n",
       "      <th>0</th>\n",
       "      <td>Baseline</td>\n",
       "      <td>0.332494</td>\n",
       "      <td>0.548050</td>\n",
       "      <td>0.448198</td>\n",
       "      <td>0.226262</td>\n",
       "    </tr>\n",
       "    <tr>\n",
       "      <th>0</th>\n",
       "      <td>Baseline</td>\n",
       "      <td>0.364782</td>\n",
       "      <td>0.570134</td>\n",
       "      <td>0.427960</td>\n",
       "      <td>0.229570</td>\n",
       "    </tr>\n",
       "  </tbody>\n",
       "</table>\n",
       "</div>"
      ],
      "text/plain": [
       "      Model       MAE      RMSE        F1  Validation Loss\n",
       "0  Baseline  0.272450  0.443909  0.662212         0.223598\n",
       "0  Baseline  0.310392  0.504331  0.638845         0.228126\n",
       "0  Baseline  0.347129  0.553392  0.583458         0.234320\n",
       "0  Baseline  0.332494  0.548050  0.448198         0.226262\n",
       "0  Baseline  0.364782  0.570134  0.427960         0.229570"
      ]
     },
     "execution_count": 61,
     "metadata": {},
     "output_type": "execute_result"
    }
   ],
   "source": [
    "df_lstm"
   ]
  },
  {
   "cell_type": "code",
   "execution_count": null,
   "metadata": {},
   "outputs": [],
   "source": [
    "list(df_model[\"MAE\"])"
   ]
  },
  {
   "cell_type": "code",
   "execution_count": 56,
   "metadata": {},
   "outputs": [
    {
     "name": "stdout",
     "output_type": "stream",
     "text": [
      "MAE\n",
      "0.03650089714982762\n",
      "RMSE\n",
      "0.04461580435547295\n",
      "F1\n",
      "0.021249432123416994\n"
     ]
    }
   ],
   "source": [
    "for metric in list(df_lstm.columns)[1:-1]:\n",
    "    print(metric)\n",
    "    results = stats.ttest_rel(list(df_lstm[metric]), list(df_model[metric]))\n",
    "    print(results.pvalue)"
   ]
  },
  {
   "cell_type": "code",
   "execution_count": 57,
   "metadata": {},
   "outputs": [
    {
     "data": {
      "text/plain": [
       "0    0.752163\n",
       "0    0.710566\n",
       "0    0.602184\n",
       "0    0.598421\n",
       "0    0.596659\n",
       "Name: F1, dtype: float64"
      ]
     },
     "execution_count": 57,
     "metadata": {},
     "output_type": "execute_result"
    }
   ],
   "source": [
    "df_model[metric]"
   ]
  },
  {
   "cell_type": "code",
   "execution_count": 32,
   "metadata": {},
   "outputs": [],
   "source": [
    "# df_lstm.iloc[:,1:].mean()"
   ]
  },
  {
   "cell_type": "code",
   "execution_count": 58,
   "metadata": {},
   "outputs": [
    {
     "data": {
      "text/plain": [
       "MAE                0.273268\n",
       "RMSE               0.458216\n",
       "F1                 0.651999\n",
       "Validation Loss    0.224421\n",
       "dtype: float64"
      ]
     },
     "execution_count": 58,
     "metadata": {},
     "output_type": "execute_result"
    }
   ],
   "source": [
    "df_model.iloc[:,1:].mean()"
   ]
  },
  {
   "cell_type": "code",
   "execution_count": 34,
   "metadata": {},
   "outputs": [],
   "source": [
    "# df_lstm.iloc[:,1:].std()"
   ]
  },
  {
   "cell_type": "code",
   "execution_count": 59,
   "metadata": {},
   "outputs": [
    {
     "data": {
      "text/plain": [
       "MAE                0.026414\n",
       "RMSE               0.049722\n",
       "F1                 0.073956\n",
       "Validation Loss    0.003312\n",
       "dtype: float64"
      ]
     },
     "execution_count": 59,
     "metadata": {},
     "output_type": "execute_result"
    }
   ],
   "source": [
    "df_model.iloc[:,1:].std()"
   ]
  },
  {
   "cell_type": "code",
   "execution_count": null,
   "metadata": {},
   "outputs": [],
   "source": []
  }
 ],
 "metadata": {
  "kernelspec": {
   "display_name": "drought",
   "language": "python",
   "name": "python3"
  },
  "language_info": {
   "codemirror_mode": {
    "name": "ipython",
    "version": 3
   },
   "file_extension": ".py",
   "mimetype": "text/x-python",
   "name": "python",
   "nbconvert_exporter": "python",
   "pygments_lexer": "ipython3",
   "version": "3.10.14"
  }
 },
 "nbformat": 4,
 "nbformat_minor": 2
}
