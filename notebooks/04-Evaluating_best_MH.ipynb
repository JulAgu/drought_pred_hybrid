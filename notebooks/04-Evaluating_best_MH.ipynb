{
 "cells": [
  {
   "cell_type": "markdown",
   "metadata": {},
   "source": [
    "### A dirty little trick to avoid dealing with paths. "
   ]
  },
  {
   "cell_type": "code",
   "execution_count": 1,
   "metadata": {},
   "outputs": [],
   "source": [
    "import os\n",
    "os.chdir('/home/juagudelo/HOMEdev/drought_pred_hybrid/')"
   ]
  },
  {
   "cell_type": "code",
   "execution_count": 2,
   "metadata": {},
   "outputs": [
    {
     "data": {
      "text/plain": [
       "'/home/juagudelo/HOMEdev/drought_pred_hybrid'"
      ]
     },
     "execution_count": 2,
     "metadata": {},
     "output_type": "execute_result"
    }
   ],
   "source": [
    "os.getcwd()"
   ]
  },
  {
   "cell_type": "markdown",
   "metadata": {},
   "source": [
    "## From here, this notebook is going to be used to evaluate the best model issued from the hyperparameter tuning over the test set."
   ]
  },
  {
   "cell_type": "code",
   "execution_count": 3,
   "metadata": {},
   "outputs": [],
   "source": [
    "import numpy as np\n",
    "import pandas as pd\n",
    "import matplotlib.pyplot as plt\n",
    "from datetime import datetime\n",
    "import pickle\n",
    "from tqdm import tqdm\n",
    "from scipy.interpolate import interp1d\n",
    "from sklearn.preprocessing import RobustScaler\n",
    "from sklearn.metrics import f1_score, mean_absolute_error\n",
    "\n",
    "import torch\n",
    "from torch import nn\n",
    "from torch.utils.data import TensorDataset, DataLoader\n",
    "from torch.utils.tensorboard import SummaryWriter\n",
    "\n",
    "import models\n",
    "import utilities"
   ]
  },
  {
   "cell_type": "code",
   "execution_count": 4,
   "metadata": {},
   "outputs": [],
   "source": [
    "# Fixing a seed to warrant the reproducibility\n",
    "torch.manual_seed(21)\n",
    "np.random.seed(21)"
   ]
  },
  {
   "cell_type": "code",
   "execution_count": 5,
   "metadata": {},
   "outputs": [],
   "source": [
    "# Initializing the model\n",
    "num_categorical_features=8\n",
    "num_numerical_features=22\n",
    "num_time_series_features=21\n",
    "batch_size=128\n",
    "output_weeks=6\n",
    "# Hyperparameters\n",
    "hidden_size= 512\n",
    "num_lstm_layers= 3\n",
    "embedding_dims= [50, 50, 50, 50, 50, 50, 50, 570]\n",
    "num_fc_tabular_layers= 3\n",
    "num_fc_combined_layers= 2\n",
    "dropout= 0.4"
   ]
  },
  {
   "cell_type": "code",
   "execution_count": 6,
   "metadata": {},
   "outputs": [],
   "source": [
    "# Importing the list of unique categories for the categorical features\n",
    "with open(f\"data/processed_dataFrames/list_cat.pickle\", \"rb\") as f:\n",
    "    list_cat = pickle.load(f)"
   ]
  },
  {
   "cell_type": "code",
   "execution_count": 7,
   "metadata": {},
   "outputs": [],
   "source": [
    "# Setting up the loaders\n",
    "dfs=utilities.load_dataFrames()\n",
    "valid_loader=utilities.create_dataLoader(X_static=dfs[\"X_tabular_valid\"],\n",
    "                                         X_static_cat=dfs[\"X_tabular_cat_valid\"],\n",
    "                                         X_time=dfs[\"X_time_valid\"],\n",
    "                                         y_target=dfs[\"y_target_valid\"],\n",
    "                                         output_weeks=output_weeks,\n",
    "                                         y_past=None,\n",
    "                                         batch_size=128,\n",
    "                                         shuffle=False\n",
    "                                         )\n",
    "test_loader=utilities.create_dataLoader(X_static=dfs[\"X_tabular_test\"],\n",
    "                                        X_static_cat=dfs[\"X_tabular_cat_test\"],\n",
    "                                        X_time=dfs[\"X_time_test\"],\n",
    "                                        y_target=dfs[\"y_target_test\"],\n",
    "                                        output_weeks=output_weeks,\n",
    "                                        y_past=None,\n",
    "                                        batch_size=128,\n",
    "                                        shuffle=False\n",
    "                                        )"
   ]
  },
  {
   "cell_type": "code",
   "execution_count": 8,
   "metadata": {},
   "outputs": [
    {
     "data": {
      "text/plain": [
       "torch.Size([6])"
      ]
     },
     "execution_count": 8,
     "metadata": {},
     "output_type": "execute_result"
    }
   ],
   "source": [
    "dfs[\"y_target_valid\"]\n",
    "torch.mean(torch.tensor(dfs[\"y_target_valid\"]), dim=0).shape"
   ]
  },
  {
   "cell_type": "code",
   "execution_count": 9,
   "metadata": {},
   "outputs": [],
   "source": [
    "test = iter(valid_loader)\n",
    "X_static, X_static_cat, X_time, y_target = next(test)"
   ]
  },
  {
   "cell_type": "code",
   "execution_count": 10,
   "metadata": {},
   "outputs": [
    {
     "name": "stdout",
     "output_type": "stream",
     "text": [
      "Using device: cpu\n",
      "NVIDIA T1000 8GB\n"
     ]
    },
    {
     "data": {
      "text/plain": [
       "HybridModel(\n",
       "  (embeddings): ModuleList(\n",
       "    (0-4): 5 x Embedding(8, 50)\n",
       "    (5): Embedding(7, 50)\n",
       "    (6): Embedding(9, 50)\n",
       "    (7): Embedding(3110, 570)\n",
       "  )\n",
       "  (tabular_fc_layers): Sequential(\n",
       "    (0): Linear(in_features=942, out_features=512, bias=True)\n",
       "    (1): ReLU()\n",
       "    (2): Linear(in_features=512, out_features=512, bias=True)\n",
       "    (3): ReLU()\n",
       "    (4): Linear(in_features=512, out_features=512, bias=True)\n",
       "    (5): ReLU()\n",
       "    (6): Linear(in_features=512, out_features=256, bias=True)\n",
       "    (7): ReLU()\n",
       "  )\n",
       "  (lstm): LSTM(21, 512, num_layers=3, batch_first=True, dropout=0.4)\n",
       "  (attention): Linear(in_features=512, out_features=1, bias=True)\n",
       "  (dropout): Dropout(p=0.4, inplace=False)\n",
       "  (fc_after_context): Linear(in_features=512, out_features=256, bias=True)\n",
       "  (combined_fc_layers): Sequential(\n",
       "    (0): Linear(in_features=512, out_features=256, bias=True)\n",
       "    (1): ReLU()\n",
       "    (2): Linear(in_features=256, out_features=256, bias=True)\n",
       "    (3): ReLU()\n",
       "    (4): Linear(in_features=256, out_features=128, bias=True)\n",
       "    (5): ReLU()\n",
       "    (6): Linear(in_features=128, out_features=6, bias=True)\n",
       "  )\n",
       ")"
      ]
     },
     "execution_count": 10,
     "metadata": {},
     "output_type": "execute_result"
    }
   ],
   "source": [
    "# set up the device\n",
    "device=torch.device(\"cpu\")\n",
    "print(f\"Using device: {device}\")\n",
    "print(torch.cuda.get_device_name(device=None))\n",
    "\n",
    "model = models.HybridModel(num_categorical_features,\n",
    "                           list_cat,\n",
    "                           num_numerical_features,\n",
    "                           num_time_series_features,\n",
    "                           hidden_size,\n",
    "                           num_lstm_layers,\n",
    "                           dropout,\n",
    "                           embedding_dims,\n",
    "                           num_fc_tabular_layers,\n",
    "                           num_fc_combined_layers,\n",
    "                           output_size=output_weeks,\n",
    ")\n",
    "\n",
    "# model.load_state_dict(torch.load(\"models/MH_Hyper/MH_Hyper_12.pt\", weights_only=True))\n",
    "model.load_state_dict(torch.load(\"models/Strong_changes_in_the_model_16_01/Strong_changes_in_the_model_16_01_changes_model_and_batch_size.pt\", weights_only=True))\n",
    "model.to(device)"
   ]
  },
  {
   "cell_type": "code",
   "execution_count": 11,
   "metadata": {},
   "outputs": [],
   "source": [
    "def predict(static, static_cat, x):\n",
    "    out, _ = model(static, static_cat, x, val_h)\n",
    "    return out"
   ]
  },
  {
   "cell_type": "code",
   "execution_count": 12,
   "metadata": {},
   "outputs": [
    {
     "name": "stderr",
     "output_type": "stream",
     "text": [
      "Test predictions...: 100%|██████████| 69/69 [00:29<00:00,  2.32it/s]\n"
     ]
    }
   ],
   "source": [
    "dict_map = {\n",
    "    \"y_pred\": [],\n",
    "    \"y_pred_rounded\": [],\n",
    "    # \"fips\": [],\n",
    "    # \"date\": [],\n",
    "    \"y_true\": [],\n",
    "    \"week\": [],\n",
    "}\n",
    "i = 0\n",
    "for static, static_cat, x, y in tqdm(\n",
    "    valid_loader,\n",
    "    desc=\"Test predictions...\",\n",
    "):\n",
    "    val_h = tuple([each.data.to(device) for each in model.init_hidden(len(x))])    \n",
    "    x, static, y = x.to(device), static.to(device), y.to(device)\n",
    "    with torch.no_grad():\n",
    "        pred = predict(static, static_cat, x).clone().detach()\n",
    "    for w in range(output_weeks):\n",
    "        dict_map[\"y_pred\"] += [float(p[w]) for p in pred]\n",
    "        dict_map[\"y_pred_rounded\"] += [int(p.round()[w]) for p in pred]\n",
    "        # dict_map[\"fips\"] += [f[1][0] for f in valid_fips[i : i + len(x)]]\n",
    "        # dict_map[\"date\"] += [f[1][1] for f in valid_fips[i : i + len(x)]]\n",
    "        dict_map[\"y_true\"] += [float(item[w]) for item in y]\n",
    "        dict_map[\"week\"] += [w] * len(x)\n",
    "    i += len(x)\n",
    "df = pd.DataFrame(dict_map)"
   ]
  },
  {
   "cell_type": "code",
   "execution_count": 13,
   "metadata": {},
   "outputs": [
    {
     "data": {
      "text/html": [
       "<div>\n",
       "<style scoped>\n",
       "    .dataframe tbody tr th:only-of-type {\n",
       "        vertical-align: middle;\n",
       "    }\n",
       "\n",
       "    .dataframe tbody tr th {\n",
       "        vertical-align: top;\n",
       "    }\n",
       "\n",
       "    .dataframe thead th {\n",
       "        text-align: right;\n",
       "    }\n",
       "</style>\n",
       "<table border=\"1\" class=\"dataframe\">\n",
       "  <thead>\n",
       "    <tr style=\"text-align: right;\">\n",
       "      <th></th>\n",
       "      <th>y_pred</th>\n",
       "      <th>y_pred_rounded</th>\n",
       "      <th>y_true</th>\n",
       "      <th>week</th>\n",
       "    </tr>\n",
       "  </thead>\n",
       "  <tbody>\n",
       "    <tr>\n",
       "      <th>0</th>\n",
       "      <td>0.035048</td>\n",
       "      <td>0</td>\n",
       "      <td>0.0000</td>\n",
       "      <td>0</td>\n",
       "    </tr>\n",
       "    <tr>\n",
       "      <th>1</th>\n",
       "      <td>0.094234</td>\n",
       "      <td>0</td>\n",
       "      <td>0.0000</td>\n",
       "      <td>0</td>\n",
       "    </tr>\n",
       "    <tr>\n",
       "      <th>2</th>\n",
       "      <td>0.026488</td>\n",
       "      <td>0</td>\n",
       "      <td>0.0000</td>\n",
       "      <td>0</td>\n",
       "    </tr>\n",
       "    <tr>\n",
       "      <th>3</th>\n",
       "      <td>0.051151</td>\n",
       "      <td>0</td>\n",
       "      <td>0.0000</td>\n",
       "      <td>0</td>\n",
       "    </tr>\n",
       "    <tr>\n",
       "      <th>4</th>\n",
       "      <td>0.959577</td>\n",
       "      <td>1</td>\n",
       "      <td>0.7767</td>\n",
       "      <td>0</td>\n",
       "    </tr>\n",
       "    <tr>\n",
       "      <th>...</th>\n",
       "      <td>...</td>\n",
       "      <td>...</td>\n",
       "      <td>...</td>\n",
       "      <td>...</td>\n",
       "    </tr>\n",
       "    <tr>\n",
       "      <th>52483</th>\n",
       "      <td>0.252375</td>\n",
       "      <td>0</td>\n",
       "      <td>0.9964</td>\n",
       "      <td>5</td>\n",
       "    </tr>\n",
       "    <tr>\n",
       "      <th>52484</th>\n",
       "      <td>0.938217</td>\n",
       "      <td>1</td>\n",
       "      <td>1.9211</td>\n",
       "      <td>5</td>\n",
       "    </tr>\n",
       "    <tr>\n",
       "      <th>52485</th>\n",
       "      <td>0.212080</td>\n",
       "      <td>0</td>\n",
       "      <td>0.0000</td>\n",
       "      <td>5</td>\n",
       "    </tr>\n",
       "    <tr>\n",
       "      <th>52486</th>\n",
       "      <td>0.460477</td>\n",
       "      <td>0</td>\n",
       "      <td>0.0000</td>\n",
       "      <td>5</td>\n",
       "    </tr>\n",
       "    <tr>\n",
       "      <th>52487</th>\n",
       "      <td>0.168214</td>\n",
       "      <td>0</td>\n",
       "      <td>0.0000</td>\n",
       "      <td>5</td>\n",
       "    </tr>\n",
       "  </tbody>\n",
       "</table>\n",
       "<p>52488 rows × 4 columns</p>\n",
       "</div>"
      ],
      "text/plain": [
       "         y_pred  y_pred_rounded  y_true  week\n",
       "0      0.035048               0  0.0000     0\n",
       "1      0.094234               0  0.0000     0\n",
       "2      0.026488               0  0.0000     0\n",
       "3      0.051151               0  0.0000     0\n",
       "4      0.959577               1  0.7767     0\n",
       "...         ...             ...     ...   ...\n",
       "52483  0.252375               0  0.9964     5\n",
       "52484  0.938217               1  1.9211     5\n",
       "52485  0.212080               0  0.0000     5\n",
       "52486  0.460477               0  0.0000     5\n",
       "52487  0.168214               0  0.0000     5\n",
       "\n",
       "[52488 rows x 4 columns]"
      ]
     },
     "execution_count": 13,
     "metadata": {},
     "output_type": "execute_result"
    }
   ],
   "source": [
    "df"
   ]
  },
  {
   "cell_type": "code",
   "execution_count": 14,
   "metadata": {},
   "outputs": [
    {
     "name": "stdout",
     "output_type": "stream",
     "text": [
      "Week 1 MAE 0.171 F1 0.704\n",
      "Week 2 MAE 0.227 F1 0.618\n",
      "Week 3 MAE 0.279 F1 0.563\n",
      "Week 4 MAE 0.333 F1 0.473\n",
      "Week 5 MAE 0.381 F1 0.44\n",
      "Week 6 MAE 0.415 F1 0.406\n"
     ]
    }
   ],
   "source": [
    "for w in range(6):\n",
    "    wdf = df[df['week']==w]\n",
    "    mae = mean_absolute_error(wdf['y_true'], wdf['y_pred']).round(3)\n",
    "    f1 = f1_score(wdf['y_true'].round(),wdf['y_pred'].round(), average='macro').round(3)\n",
    "    print(f\"Week {w+1}\", f\"MAE {mae}\", f\"F1 {f1}\")"
   ]
  },
  {
   "cell_type": "code",
   "execution_count": 15,
   "metadata": {},
   "outputs": [
    {
     "data": {
      "text/plain": [
       "(array([4.0000e+00, 1.0000e+00, 0.0000e+00, 0.0000e+00, 1.0000e+00,\n",
       "        5.0000e+00, 1.0000e+01, 1.3000e+01, 1.3000e+01, 3.8000e+01,\n",
       "        3.5000e+01, 6.4000e+01, 8.6000e+01, 1.2200e+02, 1.7800e+02,\n",
       "        2.3800e+02, 3.7500e+02, 4.7800e+02, 9.1400e+02, 1.3160e+03,\n",
       "        2.0740e+03, 5.0860e+03, 1.9867e+04, 9.7160e+03, 2.7600e+03,\n",
       "        2.1700e+03, 1.6930e+03, 1.8120e+03, 1.5360e+03, 5.7700e+02,\n",
       "        4.2200e+02, 2.6200e+02, 2.2100e+02, 1.7300e+02, 1.1600e+02,\n",
       "        5.9000e+01, 2.8000e+01, 9.0000e+00, 7.0000e+00, 9.0000e+00]),\n",
       " array([-3.91840839, -3.74881849, -3.57922859, -3.40963869, -3.24004878,\n",
       "        -3.07045888, -2.90086898, -2.73127908, -2.56168917, -2.39209927,\n",
       "        -2.22250937, -2.05291947, -1.88332956, -1.71373966, -1.54414976,\n",
       "        -1.37455986, -1.20496995, -1.03538005, -0.86579015, -0.69620025,\n",
       "        -0.52661034, -0.35702044, -0.18743054, -0.01784064,  0.15174927,\n",
       "         0.32133917,  0.49092907,  0.66051897,  0.83010888,  0.99969878,\n",
       "         1.16928868,  1.33887858,  1.50846848,  1.67805839,  1.84764829,\n",
       "         2.01723819,  2.18682809,  2.356418  ,  2.5260079 ,  2.6955978 ,\n",
       "         2.8651877 ]),\n",
       " <BarContainer object of 40 artists>)"
      ]
     },
     "execution_count": 15,
     "metadata": {},
     "output_type": "execute_result"
    },
    {
     "data": {
      "image/png": "[encoded data removed]",
      "text/plain": [
       "<Figure size 1000x600 with 1 Axes>"
      ]
     },
     "metadata": {},
     "output_type": "display_data"
    }
   ],
   "source": [
    "# Error distribution\n",
    "plt.figure(figsize=(10, 6))\n",
    "plt.hist((df['y_true'] - df['y_pred']), bins=40, alpha=0.7, label='error')"
   ]
  },
  {
   "cell_type": "markdown",
   "metadata": {},
   "source": [
    "# The next section evaluates the ablation study"
   ]
  },
  {
   "cell_type": "code",
   "execution_count": 16,
   "metadata": {},
   "outputs": [
    {
     "data": {
      "text/plain": [
       "<Axes: >"
      ]
     },
     "execution_count": 16,
     "metadata": {},
     "output_type": "execute_result"
    },
    {
     "data": {
      "image/png": "[encoded data removed]",
      "text/plain": [
       "<Figure size 640x480 with 2 Axes>"
      ]
     },
     "metadata": {},
     "output_type": "display_data"
    }
   ],
   "source": [
    "from sklearn.metrics import confusion_matrix\n",
    "from sklearn.metrics import roc_auc_score, root_mean_squared_error\n",
    "import seaborn\n",
    "seaborn.heatmap(confusion_matrix(df['y_true'].round(), df['y_pred'].round()), annot=True)"
   ]
  },
  {
   "cell_type": "code",
   "execution_count": 52,
   "metadata": {},
   "outputs": [],
   "source": [
    "# setting data to calculate the ROC AUC\n",
    "def calculate_metrics(model_name, model_path):\n",
    "\n",
    "    device=torch.device(\"cpu\")\n",
    "    print(f\"Using device: {device}\")\n",
    "    print(torch.cuda.get_device_name(device=None))\n",
    "\n",
    "    model = models.HybridModel(num_categorical_features,\n",
    "                            list_cat,\n",
    "                            num_numerical_features,\n",
    "                            num_time_series_features,\n",
    "                            hidden_size,\n",
    "                            num_lstm_layers,\n",
    "                            dropout,\n",
    "                            embedding_dims,\n",
    "                            num_fc_tabular_layers,\n",
    "                            num_fc_combined_layers,\n",
    "                            output_size=output_weeks,\n",
    "    )\n",
    "\n",
    "    model.load_state_dict(torch.load(model_path, weights_only=True))\n",
    "    model.to(device)\n",
    "\n",
    "    dict_map = {\n",
    "        \"y_pred\": [],\n",
    "        \"y_pred_rounded\": [],\n",
    "        \"y_true\": [],\n",
    "        \"week\": [],\n",
    "    }\n",
    "    i = 0\n",
    "    for static, static_cat, x, y in tqdm(\n",
    "        valid_loader,\n",
    "        desc=\"Test predictions...\",\n",
    "    ):\n",
    "        x, static, y = x.to(device), static.to(device), y.to(device)\n",
    "        with torch.no_grad():\n",
    "            pred = predict(static, static_cat, x).clone().detach()\n",
    "        for w in range(output_weeks):\n",
    "            dict_map[\"y_pred\"] += [float(p[w]) for p in pred]\n",
    "            dict_map[\"y_pred_rounded\"] += [int(p.round()[w]) for p in pred]\n",
    "            # dict_map[\"fips\"] += [f[1][0] for f in valid_fips[i : i + len(x)]]\n",
    "            # dict_map[\"date\"] += [f[1][1] for f in valid_fips[i : i + len(x)]]\n",
    "            dict_map[\"y_true\"] += [float(item[w]) for item in y]\n",
    "            dict_map[\"week\"] += [w] * len(x)\n",
    "        i += len(x)\n",
    "    df = pd.DataFrame(dict_map)\n",
    "\n",
    "    # for w in range(6):\n",
    "    #     wdf = df[df['week']==w]\n",
    "    #     mae = mean_absolute_error(wdf['y_true'], wdf['y_pred']).round(3)\n",
    "    #     f1 = f1_score(wdf['y_true'].round(),wdf['y_pred'].round(), average='macro').round(3)\n",
    "    #     print(f\"Week {w+1}\", f\"MAE {mae}\", f\"F1 {f1}\")\n",
    "\n",
    "    y_true_roc = df['y_true'].round()\n",
    "    y_pred_roc = df['y_pred'].round()\n",
    "    y_pred_for_sklearn = np.array([[0, 0, 0, 0, 0, 0] for i in y_pred_roc])\n",
    "    for i in range(len(y_pred_roc)):\n",
    "        y_pred_for_sklearn[i, int(y_pred_roc[i])] = 1\n",
    "\n",
    "    y_true_for_sklearn = np.array([[0, 0, 0, 0, 0, 0] for i in y_true_roc])\n",
    "    for i in range(len(y_true_roc)):\n",
    "        y_true_for_sklearn[i, int(y_true_roc[i])] = 1\n",
    "\n",
    "    mae = mean_absolute_error(df['y_true'], df['y_pred'])\n",
    "    rmse = root_mean_squared_error(df['y_true'], df['y_pred'])\n",
    "    f1 = f1_score(y_true_roc, y_pred_roc, average='macro')\n",
    "    roc_auc = roc_auc_score(y_true_for_sklearn, y_pred_for_sklearn, multi_class='ovr', average='weighted')\n",
    "    \n",
    "    results = pd.DataFrame({'Model': [model_name], 'MAE': [mae], 'RMSE': [rmse], 'F1': [f1], 'ROC_AUC': [roc_auc]})\n",
    "\n",
    "    return results"
   ]
  },
  {
   "cell_type": "code",
   "execution_count": 53,
   "metadata": {},
   "outputs": [],
   "source": [
    "ablation_study_schema = [(\"static\", \"models/MH_Hyper_manual_embd/MH_Hyper_manual_embd_15_01_2024.pt\"),\n",
    "                         ]"
   ]
  },
  {
   "cell_type": "code",
   "execution_count": 54,
   "metadata": {},
   "outputs": [
    {
     "name": "stdout",
     "output_type": "stream",
     "text": [
      "Using device: cpu\n",
      "NVIDIA T1000 8GB\n"
     ]
    },
    {
     "name": "stderr",
     "output_type": "stream",
     "text": [
      "Test predictions...: 100%|██████████| 69/69 [00:23<00:00,  2.90it/s]\n",
      "/tmp/ipykernel_1347788/3949740452.py:7: FutureWarning: The behavior of DataFrame concatenation with empty or all-NA entries is deprecated. In a future version, this will no longer exclude empty or all-NA columns when determining the result dtypes. To retain the old behavior, exclude the relevant entries before the concat operation.\n",
      "  results_df = pd.concat([results_df, calculate_metrics(name, path)])\n"
     ]
    }
   ],
   "source": [
    "results_df = pd.DataFrame(columns=['Model', 'MAE', 'RMSE', 'F1', 'ROC_AUC'])\n",
    "\n",
    "for name, path in ablation_study_schema:\n",
    "    # Fixing a seed to warrant the reproducibility\n",
    "    torch.manual_seed(21)\n",
    "    np.random.seed(21)\n",
    "    results_df = pd.concat([results_df, calculate_metrics(name, path)])"
   ]
  },
  {
   "cell_type": "code",
   "execution_count": 55,
   "metadata": {},
   "outputs": [
    {
     "data": {
      "text/html": [
       "<div>\n",
       "<style scoped>\n",
       "    .dataframe tbody tr th:only-of-type {\n",
       "        vertical-align: middle;\n",
       "    }\n",
       "\n",
       "    .dataframe tbody tr th {\n",
       "        vertical-align: top;\n",
       "    }\n",
       "\n",
       "    .dataframe thead th {\n",
       "        text-align: right;\n",
       "    }\n",
       "</style>\n",
       "<table border=\"1\" class=\"dataframe\">\n",
       "  <thead>\n",
       "    <tr style=\"text-align: right;\">\n",
       "      <th></th>\n",
       "      <th>Model</th>\n",
       "      <th>MAE</th>\n",
       "      <th>RMSE</th>\n",
       "      <th>F1</th>\n",
       "      <th>ROC_AUC</th>\n",
       "    </tr>\n",
       "  </thead>\n",
       "  <tbody>\n",
       "    <tr>\n",
       "      <th>0</th>\n",
       "      <td>static</td>\n",
       "      <td>0.276066</td>\n",
       "      <td>0.463964</td>\n",
       "      <td>0.610195</td>\n",
       "      <td>0.803257</td>\n",
       "    </tr>\n",
       "  </tbody>\n",
       "</table>\n",
       "</div>"
      ],
      "text/plain": [
       "    Model       MAE      RMSE        F1   ROC_AUC\n",
       "0  static  0.276066  0.463964  0.610195  0.803257"
      ]
     },
     "execution_count": 55,
     "metadata": {},
     "output_type": "execute_result"
    }
   ],
   "source": [
    "results_df"
   ]
  }
 ],
 "metadata": {
  "kernelspec": {
   "display_name": "drought",
   "language": "python",
   "name": "python3"
  },
  "language_info": {
   "codemirror_mode": {
    "name": "ipython",
    "version": 3
   },
   "file_extension": ".py",
   "mimetype": "text/x-python",
   "name": "python",
   "nbconvert_exporter": "python",
   "pygments_lexer": "ipython3",
   "version": "3.10.14"
  }
 },
 "nbformat": 4,
 "nbformat_minor": 2
}
