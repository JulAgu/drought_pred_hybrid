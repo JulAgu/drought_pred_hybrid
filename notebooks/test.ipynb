{
 "cells": [
  {
   "cell_type": "code",
   "execution_count": 1,
   "metadata": {},
   "outputs": [],
   "source": [
    "import torch\n",
    "import torch.nn as nn"
   ]
  },
  {
   "cell_type": "code",
   "execution_count": 2,
   "metadata": {},
   "outputs": [
    {
     "data": {
      "text/plain": [
       "tensor([1.0000, 1.0000, 1.0000, 1.0000])"
      ]
     },
     "execution_count": 2,
     "metadata": {},
     "output_type": "execute_result"
    }
   ],
   "source": [
    "test = torch.tensor([[12, 14, 16, 18, 20, 2, 4, 6, 8, 10,],\n",
    "                     [1, 2, 3, 4, 5, 6, 7, 8, 9, 10],\n",
    "                     [3, 6, 9, 12, 15, 18, 21, 24, 27, 30],\n",
    "                     [4, 8, 12, 16, 20, 24, 28, 32, 36, 40]],                 \n",
    "                    dtype=torch.float32\n",
    "                    )\n",
    "\n",
    "test = nn.Softmax(dim=1)(test)\n",
    "test.sum(dim=1)"
   ]
  },
  {
   "cell_type": "code",
   "execution_count": 3,
   "metadata": {},
   "outputs": [],
   "source": [
    "reshaped_test = test.view(-1,2,5)"
   ]
  },
  {
   "cell_type": "code",
   "execution_count": 4,
   "metadata": {},
   "outputs": [
    {
     "data": {
      "text/plain": [
       "tensor([[[2.9006e-04, 2.1433e-03, 1.5837e-02, 1.1702e-01, 8.6466e-01],\n",
       "         [1.3169e-08, 9.7305e-08, 7.1899e-07, 5.3127e-06, 3.9256e-05]],\n",
       "\n",
       "        [[7.8013e-05, 2.1206e-04, 5.7645e-04, 1.5669e-03, 4.2594e-03],\n",
       "         [1.1578e-02, 3.1473e-02, 8.5552e-02, 2.3255e-01, 6.3215e-01]],\n",
       "\n",
       "        [[1.7860e-12, 3.5872e-11, 7.2050e-10, 1.4472e-08, 2.9067e-07],\n",
       "         [5.8383e-06, 1.1727e-04, 2.3553e-03, 4.7308e-02, 9.5021e-01]],\n",
       "\n",
       "        [[2.2770e-16, 1.2432e-14, 6.7878e-13, 3.7060e-11, 2.0234e-09],\n",
       "         [1.1047e-07, 6.0317e-06, 3.2932e-04, 1.7980e-02, 9.8168e-01]]])"
      ]
     },
     "execution_count": 4,
     "metadata": {},
     "output_type": "execute_result"
    }
   ],
   "source": [
    "reshaped_test"
   ]
  },
  {
   "cell_type": "code",
   "execution_count": 5,
   "metadata": {},
   "outputs": [
    {
     "data": {
      "text/plain": [
       "torch.return_types.max(\n",
       "values=tensor([[2.9006e-04, 2.1433e-03, 1.5837e-02, 1.1702e-01, 8.6466e-01],\n",
       "        [1.1578e-02, 3.1473e-02, 8.5552e-02, 2.3255e-01, 6.3215e-01],\n",
       "        [5.8383e-06, 1.1727e-04, 2.3553e-03, 4.7308e-02, 9.5021e-01],\n",
       "        [1.1047e-07, 6.0317e-06, 3.2932e-04, 1.7980e-02, 9.8168e-01]]),\n",
       "indices=tensor([[0, 0, 0, 0, 0],\n",
       "        [1, 1, 1, 1, 1],\n",
       "        [1, 1, 1, 1, 1],\n",
       "        [1, 1, 1, 1, 1]]))"
      ]
     },
     "execution_count": 5,
     "metadata": {},
     "output_type": "execute_result"
    }
   ],
   "source": [
    "torch.max(reshaped_test, dim=1)"
   ]
  },
  {
   "cell_type": "code",
   "execution_count": 6,
   "metadata": {},
   "outputs": [],
   "source": [
    "import torch\n",
    "import torch.nn as nn\n",
    "combined_fc_layers = []\n",
    "for _ in range(3):\n",
    "    combined_fc_layers.append(nn.Linear(128, 64))\n",
    "    combined_fc_layers.append(nn.ReLU())\n",
    "    input_dim = 64\n",
    "combined_fc_layers = nn.Sequential(\n",
    "    *combined_fc_layers, nn.Linear(64, 32), nn.ReLU(), nn.Linear(32, 10)\n",
    ")\n"
   ]
  },
  {
   "cell_type": "code",
   "execution_count": 7,
   "metadata": {},
   "outputs": [
    {
     "data": {
      "text/plain": [
       "Linear(in_features=32, out_features=10, bias=True)"
      ]
     },
     "execution_count": 7,
     "metadata": {},
     "output_type": "execute_result"
    }
   ],
   "source": [
    "combined_fc_layers[-1]"
   ]
  },
  {
   "cell_type": "code",
   "execution_count": 8,
   "metadata": {},
   "outputs": [],
   "source": [
    "import os\n",
    "import sys\n",
    "# change current path\n",
    "os.chdir('..')"
   ]
  },
  {
   "cell_type": "code",
   "execution_count": 9,
   "metadata": {},
   "outputs": [
    {
     "name": "stdout",
     "output_type": "stream",
     "text": [
      "8\n",
      "22\n",
      "40\n",
      "[8, 8, 8, 8, 8, 7, 9, 3110]\n"
     ]
    },
    {
     "ename": "TypeError",
     "evalue": "HybridModel.__init__() got an unexpected keyword argument 'num_categorical_features'",
     "output_type": "error",
     "traceback": [
      "\u001b[0;31m---------------------------------------------------------------------------\u001b[0m",
      "\u001b[0;31mTypeError\u001b[0m                                 Traceback (most recent call last)",
      "Cell \u001b[0;32mIn[9], line 50\u001b[0m\n\u001b[1;32m     48\u001b[0m \u001b[38;5;28mprint\u001b[39m(dfs[\u001b[38;5;124m\"\u001b[39m\u001b[38;5;124mX_time_train\u001b[39m\u001b[38;5;124m\"\u001b[39m]\u001b[38;5;241m.\u001b[39mshape[\u001b[38;5;241m-\u001b[39m\u001b[38;5;241m1\u001b[39m])\n\u001b[1;32m     49\u001b[0m \u001b[38;5;28mprint\u001b[39m(dfs[\u001b[38;5;124m\"\u001b[39m\u001b[38;5;124mlist_cat\u001b[39m\u001b[38;5;124m\"\u001b[39m])\n\u001b[0;32m---> 50\u001b[0m model \u001b[38;5;241m=\u001b[39m \u001b[43mmodels\u001b[49m\u001b[38;5;241;43m.\u001b[39;49m\u001b[43mHybridModel\u001b[49m\u001b[43m(\u001b[49m\n\u001b[1;32m     51\u001b[0m \u001b[43m    \u001b[49m\u001b[43mnum_categorical_features\u001b[49m\u001b[38;5;241;43m=\u001b[39;49m\u001b[43mdfs\u001b[49m\u001b[43m[\u001b[49m\u001b[38;5;124;43m\"\u001b[39;49m\u001b[38;5;124;43mX_tabular_cat_train\u001b[39;49m\u001b[38;5;124;43m\"\u001b[39;49m\u001b[43m]\u001b[49m\u001b[38;5;241;43m.\u001b[39;49m\u001b[43mshape\u001b[49m\u001b[43m[\u001b[49m\u001b[38;5;241;43m-\u001b[39;49m\u001b[38;5;241;43m1\u001b[39;49m\u001b[43m]\u001b[49m\u001b[43m,\u001b[49m\n\u001b[1;32m     52\u001b[0m \u001b[43m    \u001b[49m\u001b[43mlist_unic_cat\u001b[49m\u001b[38;5;241;43m=\u001b[39;49m\u001b[43mdfs\u001b[49m\u001b[43m[\u001b[49m\u001b[38;5;124;43m\"\u001b[39;49m\u001b[38;5;124;43mlist_cat\u001b[39;49m\u001b[38;5;124;43m\"\u001b[39;49m\u001b[43m]\u001b[49m\u001b[43m,\u001b[49m\n\u001b[1;32m     53\u001b[0m \u001b[43m    \u001b[49m\u001b[43mnum_numerical_features\u001b[49m\u001b[38;5;241;43m=\u001b[39;49m\u001b[43mdfs\u001b[49m\u001b[43m[\u001b[49m\u001b[38;5;124;43m\"\u001b[39;49m\u001b[38;5;124;43mX_tabular_train\u001b[39;49m\u001b[38;5;124;43m\"\u001b[39;49m\u001b[43m]\u001b[49m\u001b[38;5;241;43m.\u001b[39;49m\u001b[43mshape\u001b[49m\u001b[43m[\u001b[49m\u001b[38;5;241;43m-\u001b[39;49m\u001b[38;5;241;43m1\u001b[39;49m\u001b[43m]\u001b[49m\u001b[43m,\u001b[49m\n\u001b[1;32m     54\u001b[0m \u001b[43m    \u001b[49m\u001b[43mnum_time_series_features\u001b[49m\u001b[38;5;241;43m=\u001b[39;49m\u001b[43mdfs\u001b[49m\u001b[43m[\u001b[49m\u001b[38;5;124;43m\"\u001b[39;49m\u001b[38;5;124;43mX_time_train\u001b[39;49m\u001b[38;5;124;43m\"\u001b[39;49m\u001b[43m]\u001b[49m\u001b[38;5;241;43m.\u001b[39;49m\u001b[43mshape\u001b[49m\u001b[43m[\u001b[49m\u001b[38;5;241;43m-\u001b[39;49m\u001b[38;5;241;43m1\u001b[39;49m\u001b[43m]\u001b[49m\u001b[43m,\u001b[49m\n\u001b[1;32m     55\u001b[0m \u001b[43m    \u001b[49m\u001b[43mhidden_size\u001b[49m\u001b[38;5;241;43m=\u001b[39;49m\u001b[43mhidden_size\u001b[49m\u001b[43m,\u001b[49m\n\u001b[1;32m     56\u001b[0m \u001b[43m    \u001b[49m\u001b[43mnum_lstm_layers\u001b[49m\u001b[38;5;241;43m=\u001b[39;49m\u001b[43mnum_lstm_layers\u001b[49m\u001b[43m,\u001b[49m\n\u001b[1;32m     57\u001b[0m \u001b[43m    \u001b[49m\u001b[43mdropout\u001b[49m\u001b[38;5;241;43m=\u001b[39;49m\u001b[43mdropout\u001b[49m\u001b[43m,\u001b[49m\n\u001b[1;32m     58\u001b[0m \u001b[43m    \u001b[49m\u001b[43membedding_dims\u001b[49m\u001b[38;5;241;43m=\u001b[39;49m\u001b[43membedding_dims\u001b[49m\u001b[43m,\u001b[49m\n\u001b[1;32m     59\u001b[0m \u001b[43m    \u001b[49m\u001b[43mnum_fc_tabular_layers\u001b[49m\u001b[38;5;241;43m=\u001b[39;49m\u001b[43mnum_fc_tabular_layers\u001b[49m\u001b[43m,\u001b[49m\n\u001b[1;32m     60\u001b[0m \u001b[43m    \u001b[49m\u001b[43mnum_fc_combined_layers\u001b[49m\u001b[38;5;241;43m=\u001b[39;49m\u001b[43mnum_fc_combined_layers\u001b[49m\u001b[43m,\u001b[49m\n\u001b[1;32m     61\u001b[0m \u001b[43m    \u001b[49m\u001b[43moutput_size\u001b[49m\u001b[38;5;241;43m=\u001b[39;49m\u001b[43moutput_weeks\u001b[49m\u001b[43m,\u001b[49m\n\u001b[1;32m     62\u001b[0m \u001b[43m)\u001b[49m\n",
      "\u001b[0;31mTypeError\u001b[0m: HybridModel.__init__() got an unexpected keyword argument 'num_categorical_features'"
     ]
    }
   ],
   "source": [
    "import utilities\n",
    "import models\n",
    "# Initializing the model\n",
    "batch_size = 128\n",
    "output_weeks = 6\n",
    "# Hyperparameters\n",
    "num_epochs_entire = 15\n",
    "hidden_size = 370\n",
    "num_lstm_layers = 3\n",
    "embedding_dims = [50, 50, 50, 50, 50, 50, 50, 500]\n",
    "num_fc_tabular_layers = 3\n",
    "num_fc_combined_layers = 2\n",
    "dropout = 0.4\n",
    "# early stop parameters\n",
    "early_stop_patience = 5\n",
    "early_stop_min_delta = 0.001\n",
    "lr = 8e-5\n",
    "\n",
    "# Load the data\n",
    "dfs = utilities.load_dataFrames()\n",
    "train_loader = utilities.create_dataLoader(\n",
    "    X_static=dfs[\"X_tabular_train\"],\n",
    "    X_static_cat=dfs[\"X_tabular_cat_train\"],\n",
    "    X_time=dfs[\"X_time_train\"],\n",
    "    y_target=dfs[\"y_target_train\"],\n",
    "    output_weeks=output_weeks,\n",
    "    y_past=None,\n",
    "    batch_size=128,\n",
    "    shuffle=True,\n",
    ")\n",
    "valid_loader = utilities.create_dataLoader(\n",
    "    X_static=dfs[\"X_tabular_valid\"],\n",
    "    X_static_cat=dfs[\"X_tabular_cat_valid\"],\n",
    "    X_time=dfs[\"X_time_valid\"],\n",
    "    y_target=dfs[\"y_target_valid\"],\n",
    "    output_weeks=output_weeks,\n",
    "    y_past=None,\n",
    "    batch_size=128,\n",
    "    shuffle=False,\n",
    ")\n",
    "\n",
    "len_train_loader = len(\n",
    "    train_loader\n",
    ")  # This line is necessary for the scheduler creation.\n",
    "class2id, id2class = utilities.setup_encoders_targets()\n",
    "print(dfs[\"X_tabular_cat_train\"].shape[-1])\n",
    "print(dfs[\"X_tabular_train\"].shape[-1])\n",
    "print(dfs[\"X_time_train\"].shape[-1])\n",
    "print(dfs[\"list_cat\"])\n",
    "model = models.HybridModel(\n",
    "    num_categorical_features=dfs[\"X_tabular_cat_train\"].shape[-1],\n",
    "    list_unic_cat=dfs[\"list_cat\"],\n",
    "    num_numerical_features=dfs[\"X_tabular_train\"].shape[-1],\n",
    "    num_time_series_features=dfs[\"X_time_train\"].shape[-1],\n",
    "    hidden_size=hidden_size,\n",
    "    num_lstm_layers=num_lstm_layers,\n",
    "    dropout=dropout,\n",
    "    embedding_dims=embedding_dims,\n",
    "    num_fc_tabular_layers=num_fc_tabular_layers,\n",
    "    num_fc_combined_layers=num_fc_combined_layers,\n",
    "    output_size=output_weeks,\n",
    ")"
   ]
  },
  {
   "cell_type": "code",
   "execution_count": 10,
   "metadata": {},
   "outputs": [
    {
     "data": {
      "text/plain": [
       "ModuleList(\n",
       "  (0-4): 5 x Embedding(8, 50)\n",
       "  (5): Embedding(7, 50)\n",
       "  (6): Embedding(9, 50)\n",
       "  (7): Embedding(3110, 500)\n",
       ")"
      ]
     },
     "execution_count": 10,
     "metadata": {},
     "output_type": "execute_result"
    }
   ],
   "source": [
    "model.embeddings"
   ]
  },
  {
   "cell_type": "code",
   "execution_count": 25,
   "metadata": {},
   "outputs": [
    {
     "data": {
      "text/plain": [
       "[Embedding(8, 50),\n",
       " Embedding(8, 50),\n",
       " Embedding(8, 50),\n",
       " Embedding(8, 50),\n",
       " Embedding(8, 50),\n",
       " Embedding(7, 50),\n",
       " Embedding(9, 50),\n",
       " Embedding(3110, 500)]"
      ]
     },
     "execution_count": 25,
     "metadata": {},
     "output_type": "execute_result"
    }
   ],
   "source": [
    "[nn.Embedding(num_embeddings=i, embedding_dim=dimension) for i, dimension in zip(dfs[\"list_cat\"], embedding_dims)]"
   ]
  },
  {
   "cell_type": "code",
   "execution_count": 12,
   "metadata": {},
   "outputs": [
    {
     "data": {
      "text/plain": [
       "np.float64(571.1357017337135)"
      ]
     },
     "execution_count": 12,
     "metadata": {},
     "output_type": "execute_result"
    }
   ],
   "source": [
    "import numpy as np\n",
    "75.6496 * np.log(3110 + 176.623) - 41.4457"
   ]
  },
  {
   "cell_type": "code",
   "execution_count": 17,
   "metadata": {},
   "outputs": [
    {
     "ename": "AttributeError",
     "evalue": "'tuple' object has no attribute 'data'",
     "output_type": "error",
     "traceback": [
      "\u001b[0;31m---------------------------------------------------------------------------\u001b[0m",
      "\u001b[0;31mAttributeError\u001b[0m                            Traceback (most recent call last)",
      "Cell \u001b[0;32mIn[17], line 1\u001b[0m\n\u001b[0;32m----> 1\u001b[0m \u001b[38;5;28;43mnext\u001b[39;49m\u001b[43m(\u001b[49m\u001b[43mmodel\u001b[49m\u001b[38;5;241;43m.\u001b[39;49m\u001b[43mlstm\u001b[49m\u001b[38;5;241;43m.\u001b[39;49m\u001b[43mnamed_parameters\u001b[49m\u001b[43m(\u001b[49m\u001b[43m)\u001b[49m\u001b[43m)\u001b[49m\u001b[38;5;241;43m.\u001b[39;49m\u001b[43mdata\u001b[49m\u001b[38;5;241m.\u001b[39mshape\n",
      "\u001b[0;31mAttributeError\u001b[0m: 'tuple' object has no attribute 'data'"
     ]
    }
   ],
   "source": [
    "next(model.lstm.named_parameters()).data.shape"
   ]
  },
  {
   "cell_type": "code",
   "execution_count": 19,
   "metadata": {},
   "outputs": [
    {
     "name": "stdout",
     "output_type": "stream",
     "text": [
      "embeddings.0.weight torch.Size([8, 280])\n",
      "embeddings.1.weight torch.Size([8, 280])\n",
      "embeddings.2.weight torch.Size([8, 280])\n",
      "embeddings.3.weight torch.Size([8, 280])\n",
      "embeddings.4.weight torch.Size([8, 280])\n",
      "embeddings.5.weight torch.Size([7, 280])\n",
      "embeddings.6.weight torch.Size([9, 280])\n",
      "embeddings.7.weight torch.Size([3110, 280])\n",
      "tabular_fc_layers.0.weight torch.Size([128, 2262])\n",
      "tabular_fc_layers.0.bias torch.Size([128])\n",
      "tabular_fc_layers.2.weight torch.Size([128, 128])\n",
      "tabular_fc_layers.2.bias torch.Size([128])\n",
      "tabular_fc_layers.4.weight torch.Size([128, 128])\n",
      "tabular_fc_layers.4.bias torch.Size([128])\n",
      "tabular_fc_layers.6.weight torch.Size([64, 128])\n",
      "tabular_fc_layers.6.bias torch.Size([64])\n",
      "lstm.weight_ih_l0 torch.Size([1480, 21])\n",
      "lstm.weight_hh_l0 torch.Size([1480, 370])\n",
      "lstm.bias_ih_l0 torch.Size([1480])\n",
      "lstm.bias_hh_l0 torch.Size([1480])\n",
      "lstm.weight_ih_l1 torch.Size([1480, 370])\n",
      "lstm.weight_hh_l1 torch.Size([1480, 370])\n",
      "lstm.bias_ih_l1 torch.Size([1480])\n",
      "lstm.bias_hh_l1 torch.Size([1480])\n",
      "lstm.weight_ih_l2 torch.Size([1480, 370])\n",
      "lstm.weight_hh_l2 torch.Size([1480, 370])\n",
      "lstm.bias_ih_l2 torch.Size([1480])\n",
      "lstm.bias_hh_l2 torch.Size([1480])\n",
      "attention.weight torch.Size([1, 370])\n",
      "attention.bias torch.Size([1])\n",
      "fc_after_context.weight torch.Size([64, 370])\n",
      "fc_after_context.bias torch.Size([64])\n",
      "combined_fc_layers.0.weight torch.Size([64, 128])\n",
      "combined_fc_layers.0.bias torch.Size([64])\n",
      "combined_fc_layers.2.weight torch.Size([64, 64])\n",
      "combined_fc_layers.2.bias torch.Size([64])\n",
      "combined_fc_layers.4.weight torch.Size([32, 64])\n",
      "combined_fc_layers.4.bias torch.Size([32])\n",
      "combined_fc_layers.6.weight torch.Size([6, 32])\n",
      "combined_fc_layers.6.bias torch.Size([6])\n"
     ]
    }
   ],
   "source": [
    "for name, param in model.named_parameters():\n",
    "    print(name, param.data.shape)"
   ]
  },
  {
   "cell_type": "code",
   "execution_count": 4,
   "metadata": {},
   "outputs": [
    {
     "name": "stdout",
     "output_type": "stream",
     "text": [
      "0\n"
     ]
    }
   ],
   "source": [
    "for i in range(1):\n",
    "    print(i)"
   ]
  },
  {
   "cell_type": "code",
   "execution_count": 3,
   "metadata": {},
   "outputs": [],
   "source": [
    "import matplotlib.pyplot as plt"
   ]
  },
  {
   "cell_type": "code",
   "execution_count": 4,
   "metadata": {},
   "outputs": [
    {
     "data": {
      "text/plain": [
       "[<matplotlib.lines.Line2D at 0x755b617ccd90>]"
      ]
     },
     "execution_count": 4,
     "metadata": {},
     "output_type": "execute_result"
    },
    {
     "data": {
      "image/png": "[encoded data removed]",
      "text/plain": [
       "<Figure size 640x480 with 1 Axes>"
      ]
     },
     "metadata": {},
     "output_type": "display_data"
    }
   ],
   "source": [
    "import torch\n",
    "model = torch.nn.Linear(2, 1)\n",
    "optimizer = torch.optim.SGD(model.parameters(), lr=8e-5)\n",
    "scheduler = torch.optim.lr_scheduler.ExponentialLR(optimizer, gamma=0.9)\n",
    "lrs = []\n",
    "\n",
    "\n",
    "for i in range(10):\n",
    "    optimizer.step()\n",
    "    lrs.append(optimizer.param_groups[0][\"lr\"])\n",
    "#     print(\"Factor = \",0.1,\" , Learning Rate = \",optimizer.param_groups[0][\"lr\"])\n",
    "    scheduler.step()\n",
    "\n",
    "plt.plot(lrs)\n",
    "\n"
   ]
  }
 ],
 "metadata": {
  "kernelspec": {
   "display_name": "drought",
   "language": "python",
   "name": "python3"
  },
  "language_info": {
   "codemirror_mode": {
    "name": "ipython",
    "version": 3
   },
   "file_extension": ".py",
   "mimetype": "text/x-python",
   "name": "python",
   "nbconvert_exporter": "python",
   "pygments_lexer": "ipython3",
   "version": "3.10.14"
  }
 },
 "nbformat": 4,
 "nbformat_minor": 2
}
