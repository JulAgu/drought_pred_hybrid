{
 "cells": [
  {
   "cell_type": "markdown",
   "metadata": {},
   "source": [
    "### A dirty little trick to avoid dealing with paths. "
   ]
  },
  {
   "cell_type": "code",
   "execution_count": 1,
   "metadata": {},
   "outputs": [],
   "source": [
    "import os\n",
    "os.chdir('/home/juagudelo/HOMEdev/drought_pred_hybrid/')"
   ]
  },
  {
   "cell_type": "code",
   "execution_count": 2,
   "metadata": {},
   "outputs": [
    {
     "data": {
      "text/plain": [
       "'/home/juagudelo/HOMEdev/drought_pred_hybrid'"
      ]
     },
     "execution_count": 2,
     "metadata": {},
     "output_type": "execute_result"
    }
   ],
   "source": [
    "os.getcwd()"
   ]
  },
  {
   "cell_type": "markdown",
   "metadata": {},
   "source": [
    "## From here, this notebook is going to be used to evaluate the best model issued from the hyperparameter tuning over the test set."
   ]
  },
  {
   "cell_type": "code",
   "execution_count": 16,
   "metadata": {},
   "outputs": [],
   "source": [
    "import numpy as np\n",
    "import pandas as pd\n",
    "import matplotlib.pyplot as plt\n",
    "from datetime import datetime\n",
    "import pickle\n",
    "from tqdm import tqdm\n",
    "from scipy.interpolate import interp1d\n",
    "from sklearn.preprocessing import RobustScaler\n",
    "from sklearn.metrics import f1_score, mean_absolute_error\n",
    "\n",
    "import torch\n",
    "from torch import nn\n",
    "from torch.utils.data import TensorDataset, DataLoader\n",
    "from torch.utils.tensorboard import SummaryWriter\n",
    "\n",
    "import models\n",
    "import utilities"
   ]
  },
  {
   "cell_type": "code",
   "execution_count": 17,
   "metadata": {},
   "outputs": [],
   "source": [
    "# Fixing a seed to warrant the reproducibility\n",
    "torch.manual_seed(42)\n",
    "np.random.seed(42)"
   ]
  },
  {
   "cell_type": "code",
   "execution_count": 18,
   "metadata": {},
   "outputs": [],
   "source": [
    "# Initializing the model\n",
    "batch_size=128\n",
    "output_weeks=6\n",
    "# Hyperparameters\n",
    "hidden_size= 512\n",
    "num_lstm_layers= 2\n",
    "num_fc_tabular_layers= 2\n",
    "num_fc_combined_layers= 4\n",
    "dropout= 0.3\n",
    "\n",
    "ablation_TS=False\n",
    "ablation_tabular=False\n",
    "ablation_attention=False"
   ]
  },
  {
   "cell_type": "code",
   "execution_count": 19,
   "metadata": {},
   "outputs": [],
   "source": [
    "X_tabular_test = np.load(\"data/processed_no_cat_and_no_tensors/X_tabular_test.npy\")\n",
    "X_time_test = np.load(\"data/processed_no_cat_and_no_tensors/X_time_test.npy\")\n",
    "y_target_test = np.load(\"data/processed_no_cat_and_no_tensors/y_target_test.npy\")\n",
    "X_tabular_valid = np.load(\"data/processed_no_cat_and_no_tensors/X_tabular_validation.npy\")\n",
    "X_time_valid = np.load(\"data/processed_no_cat_and_no_tensors/X_time_valid.npy\")\n",
    "y_target_valid = np.load(\"data/processed_no_cat_and_no_tensors/y_target_valid.npy\")\n",
    "with open(f\"data/processed_no_cat_and_no_tensors/valid_fips.pickle\", \"rb\") as f:\n",
    "    valid_fips = pickle.load(f)\n",
    "with open(f\"data/processed_no_cat_and_no_tensors/test_fips.pickle\", \"rb\") as f:\n",
    "    test_fips = pickle.load(f)"
   ]
  },
  {
   "cell_type": "code",
   "execution_count": 20,
   "metadata": {},
   "outputs": [],
   "source": [
    "valid_data = TensorDataset(\n",
    "    torch.tensor(X_time_valid).type(torch.FloatTensor),\n",
    "    torch.tensor(X_tabular_valid).type(torch.FloatTensor),\n",
    "    torch.tensor(y_target_valid[:, :output_weeks]).type(torch.FloatTensor),\n",
    ")\n",
    "\n",
    "test_data = TensorDataset(\n",
    "    torch.tensor(X_time_test).type(torch.FloatTensor),\n",
    "    torch.tensor(X_tabular_test).type(torch.FloatTensor),\n",
    "    torch.tensor(y_target_test[:, :output_weeks]).type(torch.FloatTensor),\n",
    ")\n",
    "\n",
    "# DataLoaders with sampler for training and default for validation\n",
    "\n",
    "valid_loader = DataLoader(\n",
    "    valid_data, shuffle=False, batch_size=batch_size, drop_last=False\n",
    ")\n",
    "\n",
    "test_loader = DataLoader(\n",
    "    test_data, shuffle=False, batch_size=batch_size, drop_last=False\n",
    ")"
   ]
  },
  {
   "cell_type": "code",
   "execution_count": 21,
   "metadata": {},
   "outputs": [],
   "source": [
    "test = iter(valid_loader)\n",
    "X_time, X_static, y_target = next(test)"
   ]
  },
  {
   "cell_type": "code",
   "execution_count": 22,
   "metadata": {},
   "outputs": [
    {
     "name": "stdout",
     "output_type": "stream",
     "text": [
      "Using device: cpu\n",
      "NVIDIA T1000 8GB\n"
     ]
    },
    {
     "data": {
      "text/plain": [
       "HybridModel_custom(\n",
       "  (tabular_fc_layers): Sequential(\n",
       "    (0): Linear(in_features=30, out_features=128, bias=True)\n",
       "    (1): ReLU()\n",
       "    (2): Linear(in_features=128, out_features=128, bias=True)\n",
       "    (3): ReLU()\n",
       "    (4): Linear(in_features=128, out_features=64, bias=True)\n",
       "    (5): ReLU()\n",
       "  )\n",
       "  (lstm): LSTM(21, 512, num_layers=2, batch_first=True, dropout=0.3)\n",
       "  (attention): Linear(in_features=512, out_features=1, bias=True)\n",
       "  (dropout): Dropout(p=0.3, inplace=False)\n",
       "  (fc_after_context): Linear(in_features=512, out_features=64, bias=True)\n",
       "  (combined_fc_layers): Sequential(\n",
       "    (0): Linear(in_features=128, out_features=64, bias=True)\n",
       "    (1): ReLU()\n",
       "    (2): Linear(in_features=64, out_features=64, bias=True)\n",
       "    (3): ReLU()\n",
       "    (4): Linear(in_features=64, out_features=64, bias=True)\n",
       "    (5): ReLU()\n",
       "    (6): Linear(in_features=64, out_features=64, bias=True)\n",
       "    (7): ReLU()\n",
       "    (8): Linear(in_features=64, out_features=32, bias=True)\n",
       "    (9): ReLU()\n",
       "    (10): Linear(in_features=32, out_features=6, bias=True)\n",
       "  )\n",
       ")"
      ]
     },
     "execution_count": 22,
     "metadata": {},
     "output_type": "execute_result"
    }
   ],
   "source": [
    "# set up the device\n",
    "device=torch.device(\"cpu\")\n",
    "print(f\"Using device: {device}\")\n",
    "print(torch.cuda.get_device_name(device=None))\n",
    "\n",
    "model = models.HybridModel_custom(num_numerical_features=X_tabular_valid.shape[-1],\n",
    "                                  num_time_series_features=X_time_valid.shape[-1],\n",
    "                                  hidden_size=hidden_size,\n",
    "                                  num_lstm_layers=num_lstm_layers,\n",
    "                                  dropout=dropout,\n",
    "                                  num_fc_tabular_layers=num_fc_tabular_layers,\n",
    "                                  num_fc_combined_layers=num_fc_combined_layers,\n",
    "                                  output_size=output_weeks,\n",
    "                                  ablation_TS=ablation_TS,\n",
    "                                  ablation_tabular=ablation_tabular,\n",
    "                                  ablation_attention=ablation_attention,)\n",
    "\n",
    "model.load_state_dict(torch.load(\"models/MH_Hybrid_Scratch_1Loss/MH_Hybrid_Scratch_1Loss_oneLoss.pt\", weights_only=True))\n",
    "# model.load_state_dict(torch.load(\"models/MH_Hybrid_Ablation/MH_Hybrid_Ablation_entire.pt\", weights_only=True))\n",
    "model.to(device)"
   ]
  },
  {
   "cell_type": "code",
   "execution_count": 23,
   "metadata": {},
   "outputs": [],
   "source": [
    "def predict(x, static):\n",
    "    out = model(x, static)\n",
    "    return out"
   ]
  },
  {
   "cell_type": "code",
   "execution_count": 24,
   "metadata": {},
   "outputs": [
    {
     "name": "stderr",
     "output_type": "stream",
     "text": [
      "Test predictions...: 100%|██████████| 69/69 [00:17<00:00,  3.98it/s]\n"
     ]
    }
   ],
   "source": [
    "dict_map = {\n",
    "    \"y_pred\": [],\n",
    "    \"y_pred_rounded\": [],\n",
    "    # \"fips\": [],\n",
    "    # \"date\": [],\n",
    "    \"y_true\": [],\n",
    "    \"week\": [],\n",
    "}\n",
    "i = 0\n",
    "for  x, static, y in tqdm(\n",
    "    test_loader,\n",
    "    desc=\"Test predictions...\",\n",
    "):\n",
    "    x, static, y = x.to(device), static.to(device), y.to(device)\n",
    "    with torch.no_grad():\n",
    "        pred = predict(x, static).clone().detach()\n",
    "    for w in range(output_weeks):\n",
    "        dict_map[\"y_pred\"] += [float(p[w]) for p in pred]\n",
    "        dict_map[\"y_pred_rounded\"] += [int(p.round()[w]) for p in pred]\n",
    "        # dict_map[\"fips\"] += [f[1][0] for f in valid_fips[i : i + len(x)]]\n",
    "        # dict_map[\"date\"] += [f[1][1] for f in valid_fips[i : i + len(x)]]\n",
    "        dict_map[\"y_true\"] += [float(item[w]) for item in y]\n",
    "        dict_map[\"week\"] += [w] * len(x)\n",
    "    i += len(x)\n",
    "df = pd.DataFrame(dict_map)"
   ]
  },
  {
   "cell_type": "code",
   "execution_count": 25,
   "metadata": {},
   "outputs": [
    {
     "data": {
      "text/html": [
       "<div>\n",
       "<style scoped>\n",
       "    .dataframe tbody tr th:only-of-type {\n",
       "        vertical-align: middle;\n",
       "    }\n",
       "\n",
       "    .dataframe tbody tr th {\n",
       "        vertical-align: top;\n",
       "    }\n",
       "\n",
       "    .dataframe thead th {\n",
       "        text-align: right;\n",
       "    }\n",
       "</style>\n",
       "<table border=\"1\" class=\"dataframe\">\n",
       "  <thead>\n",
       "    <tr style=\"text-align: right;\">\n",
       "      <th></th>\n",
       "      <th>y_pred</th>\n",
       "      <th>y_pred_rounded</th>\n",
       "      <th>y_true</th>\n",
       "      <th>week</th>\n",
       "    </tr>\n",
       "  </thead>\n",
       "  <tbody>\n",
       "    <tr>\n",
       "      <th>0</th>\n",
       "      <td>1.925153</td>\n",
       "      <td>2</td>\n",
       "      <td>2.8891</td>\n",
       "      <td>0</td>\n",
       "    </tr>\n",
       "    <tr>\n",
       "      <th>1</th>\n",
       "      <td>0.404948</td>\n",
       "      <td>0</td>\n",
       "      <td>0.8519</td>\n",
       "      <td>0</td>\n",
       "    </tr>\n",
       "    <tr>\n",
       "      <th>2</th>\n",
       "      <td>0.067383</td>\n",
       "      <td>0</td>\n",
       "      <td>0.0000</td>\n",
       "      <td>0</td>\n",
       "    </tr>\n",
       "    <tr>\n",
       "      <th>3</th>\n",
       "      <td>1.588632</td>\n",
       "      <td>2</td>\n",
       "      <td>1.4617</td>\n",
       "      <td>0</td>\n",
       "    </tr>\n",
       "    <tr>\n",
       "      <th>4</th>\n",
       "      <td>1.230978</td>\n",
       "      <td>1</td>\n",
       "      <td>1.6942</td>\n",
       "      <td>0</td>\n",
       "    </tr>\n",
       "    <tr>\n",
       "      <th>...</th>\n",
       "      <td>...</td>\n",
       "      <td>...</td>\n",
       "      <td>...</td>\n",
       "      <td>...</td>\n",
       "    </tr>\n",
       "    <tr>\n",
       "      <th>52603</th>\n",
       "      <td>0.922171</td>\n",
       "      <td>1</td>\n",
       "      <td>0.0000</td>\n",
       "      <td>5</td>\n",
       "    </tr>\n",
       "    <tr>\n",
       "      <th>52604</th>\n",
       "      <td>1.737472</td>\n",
       "      <td>2</td>\n",
       "      <td>2.0000</td>\n",
       "      <td>5</td>\n",
       "    </tr>\n",
       "    <tr>\n",
       "      <th>52605</th>\n",
       "      <td>0.176093</td>\n",
       "      <td>0</td>\n",
       "      <td>0.0000</td>\n",
       "      <td>5</td>\n",
       "    </tr>\n",
       "    <tr>\n",
       "      <th>52606</th>\n",
       "      <td>0.194181</td>\n",
       "      <td>0</td>\n",
       "      <td>0.0000</td>\n",
       "      <td>5</td>\n",
       "    </tr>\n",
       "    <tr>\n",
       "      <th>52607</th>\n",
       "      <td>2.018059</td>\n",
       "      <td>2</td>\n",
       "      <td>3.2276</td>\n",
       "      <td>5</td>\n",
       "    </tr>\n",
       "  </tbody>\n",
       "</table>\n",
       "<p>52608 rows × 4 columns</p>\n",
       "</div>"
      ],
      "text/plain": [
       "         y_pred  y_pred_rounded  y_true  week\n",
       "0      1.925153               2  2.8891     0\n",
       "1      0.404948               0  0.8519     0\n",
       "2      0.067383               0  0.0000     0\n",
       "3      1.588632               2  1.4617     0\n",
       "4      1.230978               1  1.6942     0\n",
       "...         ...             ...     ...   ...\n",
       "52603  0.922171               1  0.0000     5\n",
       "52604  1.737472               2  2.0000     5\n",
       "52605  0.176093               0  0.0000     5\n",
       "52606  0.194181               0  0.0000     5\n",
       "52607  2.018059               2  3.2276     5\n",
       "\n",
       "[52608 rows x 4 columns]"
      ]
     },
     "execution_count": 25,
     "metadata": {},
     "output_type": "execute_result"
    }
   ],
   "source": [
    "df"
   ]
  },
  {
   "cell_type": "code",
   "execution_count": 26,
   "metadata": {},
   "outputs": [
    {
     "name": "stdout",
     "output_type": "stream",
     "text": [
      "Week 1 MAE 0.143 F1 0.752\n",
      "Week 2 MAE 0.198 F1 0.661\n",
      "Week 3 MAE 0.252 F1 0.588\n",
      "Week 4 MAE 0.307 F1 0.513\n",
      "Week 5 MAE 0.352 F1 0.445\n",
      "Week 6 MAE 0.395 F1 0.413\n"
     ]
    }
   ],
   "source": [
    "for w in range(6):\n",
    "    wdf = df[df['week']==w]\n",
    "    mae = mean_absolute_error(wdf['y_true'], wdf['y_pred']).round(3)\n",
    "    f1 = f1_score(wdf['y_true'].round(),wdf['y_pred_rounded'], average='macro').round(3)\n",
    "    print(f\"Week {w+1}\", f\"MAE {mae}\", f\"F1 {f1}\")"
   ]
  },
  {
   "cell_type": "code",
   "execution_count": 27,
   "metadata": {},
   "outputs": [
    {
     "data": {
      "text/plain": [
       "(array([5.0000e+00, 6.0000e+00, 6.0000e+00, 1.3000e+01, 9.0000e+00,\n",
       "        2.6000e+01, 3.4000e+01, 6.3000e+01, 9.6000e+01, 1.0700e+02,\n",
       "        2.1300e+02, 2.1700e+02, 3.8500e+02, 5.5800e+02, 6.8000e+02,\n",
       "        1.1210e+03, 2.3940e+03, 7.5730e+03, 2.7076e+04, 2.4840e+03,\n",
       "        2.0730e+03, 1.7770e+03, 1.4940e+03, 1.5540e+03, 1.0320e+03,\n",
       "        4.4300e+02, 2.9200e+02, 2.7400e+02, 2.3300e+02, 1.7900e+02,\n",
       "        6.9000e+01, 4.4000e+01, 2.0000e+01, 2.5000e+01, 1.4000e+01,\n",
       "        1.0000e+01, 5.0000e+00, 3.0000e+00, 0.0000e+00, 1.0000e+00]),\n",
       " array([-3.22419906, -3.05305956, -2.88192006, -2.71078056, -2.53964106,\n",
       "        -2.36850156, -2.19736206, -2.02622256, -1.85508306, -1.68394356,\n",
       "        -1.51280406, -1.34166456, -1.17052506, -0.99938556, -0.82824606,\n",
       "        -0.65710656, -0.48596706, -0.31482756, -0.14368806,  0.02745143,\n",
       "         0.19859093,  0.36973043,  0.54086993,  0.71200943,  0.88314893,\n",
       "         1.05428843,  1.22542793,  1.39656743,  1.56770693,  1.73884643,\n",
       "         1.90998593,  2.08112543,  2.25226493,  2.42340443,  2.59454393,\n",
       "         2.76568343,  2.93682293,  3.10796243,  3.27910193,  3.45024143,\n",
       "         3.62138093]),\n",
       " <BarContainer object of 40 artists>)"
      ]
     },
     "execution_count": 27,
     "metadata": {},
     "output_type": "execute_result"
    },
    {
     "data": {
      "image/png": "[encoded data removed]",
      "text/plain": [
       "<Figure size 1000x600 with 1 Axes>"
      ]
     },
     "metadata": {},
     "output_type": "display_data"
    }
   ],
   "source": [
    "# Error distribution\n",
    "plt.figure(figsize=(10, 6))\n",
    "plt.hist((df['y_true'] - df['y_pred']), bins=40, alpha=0.7, label='error')"
   ]
  },
  {
   "cell_type": "markdown",
   "metadata": {},
   "source": [
    "# The next section evaluates the ablation study"
   ]
  },
  {
   "cell_type": "code",
   "execution_count": 28,
   "metadata": {},
   "outputs": [
    {
     "data": {
      "text/plain": [
       "<Axes: >"
      ]
     },
     "execution_count": 28,
     "metadata": {},
     "output_type": "execute_result"
    },
    {
     "data": {
      "image/png": "[encoded data removed]",
      "text/plain": [
       "<Figure size 640x480 with 2 Axes>"
      ]
     },
     "metadata": {},
     "output_type": "display_data"
    }
   ],
   "source": [
    "from sklearn.metrics import confusion_matrix\n",
    "from sklearn.metrics import roc_auc_score, root_mean_squared_error\n",
    "import seaborn\n",
    "seaborn.heatmap(confusion_matrix(df['y_true'].round(), df['y_pred'].round()), annot=True)"
   ]
  },
  {
   "cell_type": "code",
   "execution_count": 29,
   "metadata": {},
   "outputs": [],
   "source": [
    "# setting data to calculate the ROC AUC\n",
    "def calculate_metrics(model_name, model_path):\n",
    "\n",
    "    device=torch.device(\"cpu\")\n",
    "    print(f\"Using device: {device}\")\n",
    "    print(torch.cuda.get_device_name(device=None))\n",
    "\n",
    "    model = models.HybridModel(num_categorical_features,\n",
    "                            list_cat,\n",
    "                            num_numerical_features,\n",
    "                            num_time_series_features,\n",
    "                            hidden_size,\n",
    "                            num_lstm_layers,\n",
    "                            dropout,\n",
    "                            embedding_dims,\n",
    "                            num_fc_tabular_layers,\n",
    "                            num_fc_combined_layers,\n",
    "                            output_size=output_weeks,\n",
    "    )\n",
    "\n",
    "    model.load_state_dict(torch.load(model_path, weights_only=True))\n",
    "    model.to(device)\n",
    "\n",
    "    dict_map = {\n",
    "        \"y_pred\": [],\n",
    "        \"y_pred_rounded\": [],\n",
    "        \"y_true\": [],\n",
    "        \"week\": [],\n",
    "    }\n",
    "    i = 0\n",
    "    for static, static_cat, x, y in tqdm(\n",
    "        test_loader,\n",
    "        desc=\"Test predictions...\",\n",
    "    ):\n",
    "        x, static, y = x.to(device), static.to(device), y.to(device)\n",
    "        with torch.no_grad():\n",
    "            pred = predict(x, static, static_cat).clone().detach()\n",
    "        for w in range(output_weeks):\n",
    "            dict_map[\"y_pred\"] += [float(p[w]) for p in pred]\n",
    "            dict_map[\"y_pred_rounded\"] += [int(p.round()[w]) for p in pred]\n",
    "            # dict_map[\"fips\"] += [f[1][0] for f in valid_fips[i : i + len(x)]]\n",
    "            # dict_map[\"date\"] += [f[1][1] for f in valid_fips[i : i + len(x)]]\n",
    "            dict_map[\"y_true\"] += [float(item[w]) for item in y]\n",
    "            dict_map[\"week\"] += [w] * len(x)\n",
    "        i += len(x)\n",
    "    df = pd.DataFrame(dict_map)\n",
    "\n",
    "    # for w in range(6):\n",
    "    #     wdf = df[df['week']==w]\n",
    "    #     mae = mean_absolute_error(wdf['y_true'], wdf['y_pred']).round(3)\n",
    "    #     f1 = f1_score(wdf['y_true'].round(),wdf['y_pred'].round(), average='macro').round(3)\n",
    "    #     print(f\"Week {w+1}\", f\"MAE {mae}\", f\"F1 {f1}\")\n",
    "\n",
    "    y_true_roc = df['y_true'].round()\n",
    "    y_pred_roc = df['y_pred'].round()\n",
    "    y_pred_for_sklearn = np.array([[0, 0, 0, 0, 0, 0] for i in y_pred_roc])\n",
    "    for i in range(len(y_pred_roc)):\n",
    "        y_pred_for_sklearn[i, int(y_pred_roc[i])] = 1\n",
    "\n",
    "    y_true_for_sklearn = np.array([[0, 0, 0, 0, 0, 0] for i in y_true_roc])\n",
    "    for i in range(len(y_true_roc)):\n",
    "        y_true_for_sklearn[i, int(y_true_roc[i])] = 1\n",
    "\n",
    "    mae = mean_absolute_error(df['y_true'], df['y_pred'])\n",
    "    rmse = root_mean_squared_error(df['y_true'], df['y_pred'])\n",
    "    f1 = f1_score(y_true_roc, y_pred_roc, average='macro')\n",
    "    roc_auc = roc_auc_score(y_true_for_sklearn, y_pred_for_sklearn, multi_class='ovr', average='weighted')\n",
    "    \n",
    "    results = pd.DataFrame({'Model': [model_name], 'MAE': [mae], 'RMSE': [rmse], 'F1': [f1], 'ROC_AUC': [roc_auc]})\n",
    "\n",
    "    return results"
   ]
  },
  {
   "cell_type": "code",
   "execution_count": 30,
   "metadata": {},
   "outputs": [],
   "source": [
    "ablation_study_schema = [(\"static\", \"models/MH_Hyper/MH_Hyper_12.pt\"),\n",
    "                         (\"ts_no_att\", \"\"),\n",
    "                         (\"ts\", \"\"),\n",
    "                         (\"static_ts_no_att\", \"\"),\n",
    "                         (\"entire\", \"\"),\n",
    "                         ]"
   ]
  },
  {
   "cell_type": "code",
   "execution_count": 31,
   "metadata": {},
   "outputs": [
    {
     "name": "stdout",
     "output_type": "stream",
     "text": [
      "Using device: cpu\n",
      "NVIDIA T1000 8GB\n"
     ]
    },
    {
     "ename": "NameError",
     "evalue": "name 'num_categorical_features' is not defined",
     "output_type": "error",
     "traceback": [
      "\u001b[0;31m---------------------------------------------------------------------------\u001b[0m",
      "\u001b[0;31mNameError\u001b[0m                                 Traceback (most recent call last)",
      "Cell \u001b[0;32mIn[31], line 7\u001b[0m\n\u001b[1;32m      5\u001b[0m torch\u001b[38;5;241m.\u001b[39mmanual_seed(\u001b[38;5;241m21\u001b[39m)\n\u001b[1;32m      6\u001b[0m np\u001b[38;5;241m.\u001b[39mrandom\u001b[38;5;241m.\u001b[39mseed(\u001b[38;5;241m21\u001b[39m)\n\u001b[0;32m----> 7\u001b[0m results_df \u001b[38;5;241m=\u001b[39m pd\u001b[38;5;241m.\u001b[39mconcat([results_df, \u001b[43mcalculate_metrics\u001b[49m\u001b[43m(\u001b[49m\u001b[43mname\u001b[49m\u001b[43m,\u001b[49m\u001b[43m \u001b[49m\u001b[43mpath\u001b[49m\u001b[43m)\u001b[49m])\n",
      "Cell \u001b[0;32mIn[29], line 8\u001b[0m, in \u001b[0;36mcalculate_metrics\u001b[0;34m(model_name, model_path)\u001b[0m\n\u001b[1;32m      5\u001b[0m \u001b[38;5;28mprint\u001b[39m(\u001b[38;5;124mf\u001b[39m\u001b[38;5;124m\"\u001b[39m\u001b[38;5;124mUsing device: \u001b[39m\u001b[38;5;132;01m{\u001b[39;00mdevice\u001b[38;5;132;01m}\u001b[39;00m\u001b[38;5;124m\"\u001b[39m)\n\u001b[1;32m      6\u001b[0m \u001b[38;5;28mprint\u001b[39m(torch\u001b[38;5;241m.\u001b[39mcuda\u001b[38;5;241m.\u001b[39mget_device_name(device\u001b[38;5;241m=\u001b[39m\u001b[38;5;28;01mNone\u001b[39;00m))\n\u001b[0;32m----> 8\u001b[0m model \u001b[38;5;241m=\u001b[39m models\u001b[38;5;241m.\u001b[39mHybridModel(\u001b[43mnum_categorical_features\u001b[49m,\n\u001b[1;32m      9\u001b[0m                         list_cat,\n\u001b[1;32m     10\u001b[0m                         num_numerical_features,\n\u001b[1;32m     11\u001b[0m                         num_time_series_features,\n\u001b[1;32m     12\u001b[0m                         hidden_size,\n\u001b[1;32m     13\u001b[0m                         num_lstm_layers,\n\u001b[1;32m     14\u001b[0m                         dropout,\n\u001b[1;32m     15\u001b[0m                         embedding_dims,\n\u001b[1;32m     16\u001b[0m                         num_fc_tabular_layers,\n\u001b[1;32m     17\u001b[0m                         num_fc_combined_layers,\n\u001b[1;32m     18\u001b[0m                         output_size\u001b[38;5;241m=\u001b[39moutput_weeks,\n\u001b[1;32m     19\u001b[0m )\n\u001b[1;32m     21\u001b[0m model\u001b[38;5;241m.\u001b[39mload_state_dict(torch\u001b[38;5;241m.\u001b[39mload(model_path, weights_only\u001b[38;5;241m=\u001b[39m\u001b[38;5;28;01mTrue\u001b[39;00m))\n\u001b[1;32m     22\u001b[0m model\u001b[38;5;241m.\u001b[39mto(device)\n",
      "\u001b[0;31mNameError\u001b[0m: name 'num_categorical_features' is not defined"
     ]
    }
   ],
   "source": [
    "results_df = pd.DataFrame(columns=['Model', 'MAE', 'RMSE', 'F1', 'ROC_AUC'])\n",
    "\n",
    "for name, path in ablation_study_schema:\n",
    "    # Fixing a seed to warrant the reproducibility\n",
    "    torch.manual_seed(21)\n",
    "    np.random.seed(21)\n",
    "    results_df = pd.concat([results_df, calculate_metrics(name, path)])"
   ]
  },
  {
   "cell_type": "code",
   "execution_count": 17,
   "metadata": {},
   "outputs": [
    {
     "data": {
      "text/html": [
       "<div>\n",
       "<style scoped>\n",
       "    .dataframe tbody tr th:only-of-type {\n",
       "        vertical-align: middle;\n",
       "    }\n",
       "\n",
       "    .dataframe tbody tr th {\n",
       "        vertical-align: top;\n",
       "    }\n",
       "\n",
       "    .dataframe thead th {\n",
       "        text-align: right;\n",
       "    }\n",
       "</style>\n",
       "<table border=\"1\" class=\"dataframe\">\n",
       "  <thead>\n",
       "    <tr style=\"text-align: right;\">\n",
       "      <th></th>\n",
       "      <th>Model</th>\n",
       "      <th>MAE</th>\n",
       "      <th>RMSE</th>\n",
       "      <th>F1</th>\n",
       "      <th>ROC_AUC</th>\n",
       "    </tr>\n",
       "  </thead>\n",
       "  <tbody>\n",
       "    <tr>\n",
       "      <th>0</th>\n",
       "      <td>static</td>\n",
       "      <td>0.259596</td>\n",
       "      <td>0.470429</td>\n",
       "      <td>0.589339</td>\n",
       "      <td>0.785717</td>\n",
       "    </tr>\n",
       "    <tr>\n",
       "      <th>0</th>\n",
       "      <td>ts_no_att</td>\n",
       "      <td>0.259596</td>\n",
       "      <td>0.470429</td>\n",
       "      <td>0.589339</td>\n",
       "      <td>0.785717</td>\n",
       "    </tr>\n",
       "  </tbody>\n",
       "</table>\n",
       "</div>"
      ],
      "text/plain": [
       "       Model       MAE      RMSE        F1   ROC_AUC\n",
       "0     static  0.259596  0.470429  0.589339  0.785717\n",
       "0  ts_no_att  0.259596  0.470429  0.589339  0.785717"
      ]
     },
     "execution_count": 17,
     "metadata": {},
     "output_type": "execute_result"
    }
   ],
   "source": [
    "results_df"
   ]
  }
 ],
 "metadata": {
  "kernelspec": {
   "display_name": "drought",
   "language": "python",
   "name": "python3"
  },
  "language_info": {
   "codemirror_mode": {
    "name": "ipython",
    "version": 3
   },
   "file_extension": ".py",
   "mimetype": "text/x-python",
   "name": "python",
   "nbconvert_exporter": "python",
   "pygments_lexer": "ipython3",
   "version": "3.10.14"
  }
 },
 "nbformat": 4,
 "nbformat_minor": 2
}
