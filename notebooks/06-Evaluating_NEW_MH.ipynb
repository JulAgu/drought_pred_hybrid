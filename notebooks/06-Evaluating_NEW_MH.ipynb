{
 "cells": [
  {
   "cell_type": "markdown",
   "metadata": {},
   "source": [
    "### A dirty little trick to avoid dealing with paths. "
   ]
  },
  {
   "cell_type": "code",
   "execution_count": 1,
   "metadata": {},
   "outputs": [],
   "source": [
    "import os\n",
    "os.chdir('/home/juagudelo/HOMEdev/drought_pred_hybrid/')"
   ]
  },
  {
   "cell_type": "code",
   "execution_count": 2,
   "metadata": {},
   "outputs": [
    {
     "data": {
      "text/plain": [
       "'/home/juagudelo/HOMEdev/drought_pred_hybrid'"
      ]
     },
     "execution_count": 2,
     "metadata": {},
     "output_type": "execute_result"
    }
   ],
   "source": [
    "os.getcwd()"
   ]
  },
  {
   "cell_type": "markdown",
   "metadata": {},
   "source": [
    "## From here, this notebook is going to be used to evaluate the best model issued from the hyperparameter tuning over the test set."
   ]
  },
  {
   "cell_type": "code",
   "execution_count": 3,
   "metadata": {},
   "outputs": [],
   "source": [
    "import numpy as np\n",
    "import pandas as pd\n",
    "import matplotlib.pyplot as plt\n",
    "from datetime import datetime\n",
    "import pickle\n",
    "from tqdm import tqdm\n",
    "from scipy.interpolate import interp1d\n",
    "from sklearn.preprocessing import RobustScaler\n",
    "from sklearn.metrics import f1_score, mean_absolute_error\n",
    "\n",
    "import torch\n",
    "from torch import nn\n",
    "from torch.utils.data import TensorDataset, DataLoader\n",
    "from torch.utils.tensorboard import SummaryWriter\n",
    "import torch.nn.functional as F\n",
    "\n",
    "import models\n",
    "import utilities"
   ]
  },
  {
   "cell_type": "code",
   "execution_count": 4,
   "metadata": {},
   "outputs": [],
   "source": [
    "# Fixing a seed to warrant the reproducibility\n",
    "torch.manual_seed(21)\n",
    "np.random.seed(21)"
   ]
  },
  {
   "cell_type": "code",
   "execution_count": 5,
   "metadata": {},
   "outputs": [],
   "source": [
    "# Initializing the model\n",
    "batch_size=128\n",
    "output_weeks=6\n",
    "# Hyperparameters\n",
    "hidden_size= 750\n",
    "num_lstm_layers= 5\n",
    "embedding_dims= [50, 50, 50, 50, 50, 50, 50, 570]\n",
    "num_fc_tabular_layers= 6\n",
    "num_fc_combined_layers= 4\n",
    "dropout= 0.6"
   ]
  },
  {
   "cell_type": "code",
   "execution_count": 6,
   "metadata": {},
   "outputs": [],
   "source": [
    "# Importing the list of unique categories for the categorical features\n",
    "with open(f\"data/processed_dataFrames/list_cat.pickle\", \"rb\") as f:\n",
    "    list_cat = pickle.load(f)"
   ]
  },
  {
   "cell_type": "code",
   "execution_count": 7,
   "metadata": {},
   "outputs": [],
   "source": [
    "# Setting up the loaders\n",
    "dfs=utilities.load_dataFrames()\n",
    "valid_loader=utilities.create_dataLoader(X_static=dfs[\"X_tabular_valid\"],\n",
    "                                         X_static_cat=dfs[\"X_tabular_cat_valid\"],\n",
    "                                         X_time=dfs[\"X_time_valid\"],\n",
    "                                         y_target=dfs[\"y_target_valid\"],\n",
    "                                         output_weeks=output_weeks,\n",
    "                                         y_past=None,\n",
    "                                         batch_size=batch_size,\n",
    "                                         shuffle=False\n",
    "                                         )\n",
    "test_loader=utilities.create_dataLoader(X_static=dfs[\"X_tabular_test\"],\n",
    "                                        X_static_cat=dfs[\"X_tabular_cat_test\"],\n",
    "                                        X_time=dfs[\"X_time_test\"],\n",
    "                                        y_target=dfs[\"y_target_test\"],\n",
    "                                        output_weeks=output_weeks,\n",
    "                                        y_past=None,\n",
    "                                        batch_size=batch_size,\n",
    "                                        shuffle=False\n",
    "                                        )"
   ]
  },
  {
   "cell_type": "code",
   "execution_count": 8,
   "metadata": {},
   "outputs": [
    {
     "data": {
      "text/plain": [
       "(2457, 8)"
      ]
     },
     "execution_count": 8,
     "metadata": {},
     "output_type": "execute_result"
    }
   ],
   "source": [
    "dfs[\"X_tabular_cat_valid\"].shape"
   ]
  },
  {
   "cell_type": "code",
   "execution_count": 9,
   "metadata": {},
   "outputs": [],
   "source": [
    "test = iter(valid_loader)\n",
    "X_static, X_static_cat, X_time, y_target = next(test)"
   ]
  },
  {
   "cell_type": "code",
   "execution_count": 10,
   "metadata": {},
   "outputs": [],
   "source": [
    "class New_HybridModel(nn.Module):\n",
    "    \"\"\"\n",
    "    The last version of the HybridModel, with the same architecture but smalle changes in the forward method and in the embeddings traitement.\n",
    "    \"\"\"\n",
    "    def __init__(\n",
    "        self,\n",
    "        num_numerical_features,\n",
    "        num_time_series_features,\n",
    "        hidden_size,\n",
    "        num_lstm_layers,\n",
    "        list_unic_cat,\n",
    "        embedding_dims,\n",
    "        num_fc_tabular_layers,\n",
    "        num_fc_combined_layers,\n",
    "        output_size,\n",
    "        dropout,\n",
    "        ablation_TS=False,\n",
    "        ablation_tabular=False,\n",
    "        ablation_attention=False,\n",
    "    ):\n",
    "        super(New_HybridModel, self).__init__()\n",
    "        self.num_lstm_layers = num_lstm_layers\n",
    "        self.hidden_size = hidden_size\n",
    "\n",
    "        self.embeddings = nn.ModuleList(\n",
    "                [\n",
    "                    nn.Embedding(num_embeddings=i, embedding_dim=dimension)\n",
    "                    for i, dimension in zip(list_unic_cat, embedding_dims)\n",
    "                ]\n",
    "            )\n",
    "\n",
    "        self.after_embeddings = nn.Sequential(\n",
    "            nn.Linear(int(sum(embedding_dims)), 512), nn.ReLU(), nn.Dropout(dropout),\n",
    "            nn.Linear(512, 256), nn.ReLU(), nn.Dropout(dropout),\n",
    "            nn.Linear(256, 128), nn.ReLU(), nn.Dropout(dropout),\n",
    "            nn.Linear(128, 64), nn.ReLU(), nn.Dropout(dropout),\n",
    "            nn.Linear(64, 16)\n",
    "        )\n",
    "\n",
    "        tabular_total_size = num_numerical_features + 16\n",
    "        tabular_fc_layers = []\n",
    "        for _ in range(num_fc_tabular_layers):\n",
    "            tabular_fc_layers.append(nn.Linear(tabular_total_size, tabular_total_size))\n",
    "            tabular_fc_layers.append(nn.ReLU())\n",
    "        self.tabular_fc_layers = nn.Sequential(\n",
    "            *tabular_fc_layers, nn.Linear(tabular_total_size, tabular_total_size)\n",
    "        )\n",
    "\n",
    "        # TS branch\n",
    "        self.lstm = nn.LSTM(\n",
    "            input_size=num_time_series_features,\n",
    "            hidden_size=hidden_size,\n",
    "            num_layers=num_lstm_layers,\n",
    "            batch_first=True,\n",
    "            dropout=dropout,\n",
    "        )\n",
    "        self.layer_norm = nn.LayerNorm(hidden_size)\n",
    "        self.attention = nn.Linear(hidden_size, 1)\n",
    "        self.dropout = nn.Dropout(dropout)\n",
    "\n",
    "        combined_fc_layers = []\n",
    "        input_dim = tabular_total_size + hidden_size\n",
    "\n",
    "        for _ in range(num_fc_combined_layers):\n",
    "            combined_fc_layers.append(nn.Linear(input_dim, hidden_size))\n",
    "            combined_fc_layers.append(nn.ReLU())\n",
    "            input_dim = hidden_size\n",
    "        self.combined_fc_layers = nn.Sequential(\n",
    "            *combined_fc_layers, nn.Linear(hidden_size, output_size)\n",
    "        )\n",
    "\n",
    "    def forward(self, time_series_data, numerical_data, categorical_data):\n",
    "        batch_size = time_series_data.size(0)\n",
    "        h0 = torch.zeros(self.num_lstm_layers, batch_size, self.hidden_size).to(device)\n",
    "        c0 = torch.zeros(self.num_lstm_layers, batch_size, self.hidden_size).to(device)\n",
    "\n",
    "        time_series_data = time_series_data.to(torch.float32)\n",
    "        numerical_data = numerical_data.to(torch.float32)\n",
    "        categorical_data = categorical_data.to(torch.int64)\n",
    "\n",
    "        embeddings = [emb(categorical_data[:, i]) for i, emb in enumerate(self.embeddings)]\n",
    "        x_cat = torch.cat(embeddings, dim=1)\n",
    "        x_cat = self.after_embeddings(x_cat)\n",
    "        x_tabular = torch.cat((x_cat, numerical_data), dim=1)\n",
    "        x1 = self.tabular_fc_layers(x_tabular)\n",
    "\n",
    "        # Pass the time series data through the LSTM and the attention mechanism\n",
    "        lstm_out, _ = self.lstm(time_series_data, (h0, c0))\n",
    "        lstm_out = self.layer_norm(lstm_out) # Apply layer normalization\n",
    "        attn_weights = F.softmax(self.attention(lstm_out), dim=1)\n",
    "        context_vector = torch.sum(attn_weights * lstm_out, dim=1)\n",
    "        # Pass the data through the attention mechanism\n",
    "        # context_vector = lstm_out[:, -1, :]  # Last time step output\n",
    "\n",
    "        # Combined MLPs and output\n",
    "        x2 = self.dropout(context_vector)\n",
    "        x = torch.cat((x1, x2), dim=1)\n",
    "        x = self.combined_fc_layers(x)\n",
    "        return x"
   ]
  },
  {
   "cell_type": "code",
   "execution_count": 11,
   "metadata": {},
   "outputs": [
    {
     "name": "stdout",
     "output_type": "stream",
     "text": [
      "Using device: cpu\n",
      "NVIDIA T1000 8GB\n"
     ]
    },
    {
     "data": {
      "text/plain": [
       "New_HybridModel(\n",
       "  (embeddings): ModuleList(\n",
       "    (0-4): 5 x Embedding(8, 50)\n",
       "    (5): Embedding(7, 50)\n",
       "    (6): Embedding(9, 50)\n",
       "    (7): Embedding(3110, 570)\n",
       "  )\n",
       "  (after_embeddings): Sequential(\n",
       "    (0): Linear(in_features=920, out_features=512, bias=True)\n",
       "    (1): ReLU()\n",
       "    (2): Dropout(p=0.6, inplace=False)\n",
       "    (3): Linear(in_features=512, out_features=256, bias=True)\n",
       "    (4): ReLU()\n",
       "    (5): Dropout(p=0.6, inplace=False)\n",
       "    (6): Linear(in_features=256, out_features=128, bias=True)\n",
       "    (7): ReLU()\n",
       "    (8): Dropout(p=0.6, inplace=False)\n",
       "    (9): Linear(in_features=128, out_features=64, bias=True)\n",
       "    (10): ReLU()\n",
       "    (11): Dropout(p=0.6, inplace=False)\n",
       "    (12): Linear(in_features=64, out_features=16, bias=True)\n",
       "  )\n",
       "  (tabular_fc_layers): Sequential(\n",
       "    (0): Linear(in_features=38, out_features=38, bias=True)\n",
       "    (1): ReLU()\n",
       "    (2): Linear(in_features=38, out_features=38, bias=True)\n",
       "    (3): ReLU()\n",
       "    (4): Linear(in_features=38, out_features=38, bias=True)\n",
       "    (5): ReLU()\n",
       "    (6): Linear(in_features=38, out_features=38, bias=True)\n",
       "    (7): ReLU()\n",
       "    (8): Linear(in_features=38, out_features=38, bias=True)\n",
       "    (9): ReLU()\n",
       "    (10): Linear(in_features=38, out_features=38, bias=True)\n",
       "    (11): ReLU()\n",
       "    (12): Linear(in_features=38, out_features=38, bias=True)\n",
       "  )\n",
       "  (lstm): LSTM(40, 750, num_layers=5, batch_first=True, dropout=0.6)\n",
       "  (layer_norm): LayerNorm((750,), eps=1e-05, elementwise_affine=True)\n",
       "  (attention): Linear(in_features=750, out_features=1, bias=True)\n",
       "  (dropout): Dropout(p=0.6, inplace=False)\n",
       "  (combined_fc_layers): Sequential(\n",
       "    (0): Linear(in_features=788, out_features=750, bias=True)\n",
       "    (1): ReLU()\n",
       "    (2): Linear(in_features=750, out_features=750, bias=True)\n",
       "    (3): ReLU()\n",
       "    (4): Linear(in_features=750, out_features=750, bias=True)\n",
       "    (5): ReLU()\n",
       "    (6): Linear(in_features=750, out_features=750, bias=True)\n",
       "    (7): ReLU()\n",
       "    (8): Linear(in_features=750, out_features=6, bias=True)\n",
       "  )\n",
       ")"
      ]
     },
     "execution_count": 11,
     "metadata": {},
     "output_type": "execute_result"
    }
   ],
   "source": [
    "device=torch.device(\"cpu\")\n",
    "print(f\"Using device: {device}\")\n",
    "print(torch.cuda.get_device_name(device=None))\n",
    "\n",
    "model = New_HybridModel(\n",
    "    num_numerical_features=dfs[\"X_tabular_valid\"].shape[-1],\n",
    "    num_time_series_features=dfs[\"X_time_valid\"].shape[-1],\n",
    "    hidden_size=hidden_size,\n",
    "    list_unic_cat=list_cat,\n",
    "    embedding_dims=embedding_dims,\n",
    "    num_lstm_layers=num_lstm_layers,\n",
    "    num_fc_tabular_layers=num_fc_tabular_layers,\n",
    "    num_fc_combined_layers=num_fc_combined_layers,\n",
    "    output_size=output_weeks,\n",
    "    dropout=dropout,\n",
    ")\n",
    "\n",
    "model.load_state_dict(torch.load(\"models/MH_Hyper_New_Hybrid/MH_Hyper_New_Hybrid_3.pt\", weights_only=True))\n",
    "model.to(device)"
   ]
  },
  {
   "cell_type": "code",
   "execution_count": 12,
   "metadata": {},
   "outputs": [],
   "source": [
    "def predict(x, static, static_cat):\n",
    "    out = model(torch.tensor(x), static, static_cat)\n",
    "    return out"
   ]
  },
  {
   "cell_type": "code",
   "execution_count": 62,
   "metadata": {},
   "outputs": [
    {
     "name": "stderr",
     "output_type": "stream",
     "text": [
      "validation predictions...:   0%|          | 0/20 [00:00<?, ?it/s]/tmp/ipykernel_1568749/1961147624.py:2: UserWarning: To copy construct from a tensor, it is recommended to use sourceTensor.clone().detach() or sourceTensor.clone().detach().requires_grad_(True), rather than torch.tensor(sourceTensor).\n",
      "  out = model(torch.tensor(x), static, static_cat)\n",
      "validation predictions...: 100%|██████████| 20/20 [00:33<00:00,  1.70s/it]\n"
     ]
    }
   ],
   "source": [
    "dict_map = {\n",
    "    \"y_pred\": [],\n",
    "    \"y_pred_rounded\": [],\n",
    "    # \"fips\": [],\n",
    "    # \"date\": [],\n",
    "    \"y_true\": [],\n",
    "    \"week\": [],\n",
    "}\n",
    "i = 0\n",
    "for x, static, static_cat, y in tqdm(\n",
    "    test_loader,# ou test_loader\n",
    "    desc=\"validation predictions...\",\n",
    "    ):\n",
    "    x, static, static_cat, y = x.to(device), static.to(device), static_cat.to(device), y.to(device)\n",
    "    with torch.no_grad():\n",
    "        pred = predict(x, static, static_cat).clone().detach()\n",
    "    for w in range(output_weeks):\n",
    "        dict_map[\"y_pred\"] += [float(p[w]) for p in pred]\n",
    "        dict_map[\"y_pred_rounded\"] += [int(p.round()[w]) for p in pred]\n",
    "        # dict_map[\"fips\"] += [f[1][0] for f in valid_fips[i : i + len(x)]]\n",
    "        # dict_map[\"date\"] += [f[1][1] for f in valid_fips[i : i + len(x)]]\n",
    "        dict_map[\"y_true\"] += [float(item[w]) for item in y]\n",
    "        dict_map[\"week\"] += [w] * len(x)\n",
    "    i += len(x)\n",
    "df = pd.DataFrame(dict_map)"
   ]
  },
  {
   "cell_type": "code",
   "execution_count": 63,
   "metadata": {},
   "outputs": [
    {
     "data": {
      "text/html": [
       "<div>\n",
       "<style scoped>\n",
       "    .dataframe tbody tr th:only-of-type {\n",
       "        vertical-align: middle;\n",
       "    }\n",
       "\n",
       "    .dataframe tbody tr th {\n",
       "        vertical-align: top;\n",
       "    }\n",
       "\n",
       "    .dataframe thead th {\n",
       "        text-align: right;\n",
       "    }\n",
       "</style>\n",
       "<table border=\"1\" class=\"dataframe\">\n",
       "  <thead>\n",
       "    <tr style=\"text-align: right;\">\n",
       "      <th></th>\n",
       "      <th>y_pred</th>\n",
       "      <th>y_pred_rounded</th>\n",
       "      <th>y_true</th>\n",
       "      <th>week</th>\n",
       "    </tr>\n",
       "  </thead>\n",
       "  <tbody>\n",
       "    <tr>\n",
       "      <th>0</th>\n",
       "      <td>0.054612</td>\n",
       "      <td>0</td>\n",
       "      <td>0.0000</td>\n",
       "      <td>0</td>\n",
       "    </tr>\n",
       "    <tr>\n",
       "      <th>1</th>\n",
       "      <td>0.004016</td>\n",
       "      <td>0</td>\n",
       "      <td>0.0000</td>\n",
       "      <td>0</td>\n",
       "    </tr>\n",
       "    <tr>\n",
       "      <th>2</th>\n",
       "      <td>0.144183</td>\n",
       "      <td>0</td>\n",
       "      <td>0.0000</td>\n",
       "      <td>0</td>\n",
       "    </tr>\n",
       "    <tr>\n",
       "      <th>3</th>\n",
       "      <td>0.114944</td>\n",
       "      <td>0</td>\n",
       "      <td>0.0000</td>\n",
       "      <td>0</td>\n",
       "    </tr>\n",
       "    <tr>\n",
       "      <th>4</th>\n",
       "      <td>0.014548</td>\n",
       "      <td>0</td>\n",
       "      <td>0.0000</td>\n",
       "      <td>0</td>\n",
       "    </tr>\n",
       "    <tr>\n",
       "      <th>...</th>\n",
       "      <td>...</td>\n",
       "      <td>...</td>\n",
       "      <td>...</td>\n",
       "      <td>...</td>\n",
       "    </tr>\n",
       "    <tr>\n",
       "      <th>14857</th>\n",
       "      <td>3.072805</td>\n",
       "      <td>3</td>\n",
       "      <td>2.8139</td>\n",
       "      <td>5</td>\n",
       "    </tr>\n",
       "    <tr>\n",
       "      <th>14858</th>\n",
       "      <td>3.375255</td>\n",
       "      <td>3</td>\n",
       "      <td>3.1832</td>\n",
       "      <td>5</td>\n",
       "    </tr>\n",
       "    <tr>\n",
       "      <th>14859</th>\n",
       "      <td>3.111210</td>\n",
       "      <td>3</td>\n",
       "      <td>2.7126</td>\n",
       "      <td>5</td>\n",
       "    </tr>\n",
       "    <tr>\n",
       "      <th>14860</th>\n",
       "      <td>1.876573</td>\n",
       "      <td>2</td>\n",
       "      <td>2.0000</td>\n",
       "      <td>5</td>\n",
       "    </tr>\n",
       "    <tr>\n",
       "      <th>14861</th>\n",
       "      <td>2.557517</td>\n",
       "      <td>3</td>\n",
       "      <td>3.2276</td>\n",
       "      <td>5</td>\n",
       "    </tr>\n",
       "  </tbody>\n",
       "</table>\n",
       "<p>14862 rows × 4 columns</p>\n",
       "</div>"
      ],
      "text/plain": [
       "         y_pred  y_pred_rounded  y_true  week\n",
       "0      0.054612               0  0.0000     0\n",
       "1      0.004016               0  0.0000     0\n",
       "2      0.144183               0  0.0000     0\n",
       "3      0.114944               0  0.0000     0\n",
       "4      0.014548               0  0.0000     0\n",
       "...         ...             ...     ...   ...\n",
       "14857  3.072805               3  2.8139     5\n",
       "14858  3.375255               3  3.1832     5\n",
       "14859  3.111210               3  2.7126     5\n",
       "14860  1.876573               2  2.0000     5\n",
       "14861  2.557517               3  3.2276     5\n",
       "\n",
       "[14862 rows x 4 columns]"
      ]
     },
     "execution_count": 63,
     "metadata": {},
     "output_type": "execute_result"
    }
   ],
   "source": [
    "df"
   ]
  },
  {
   "cell_type": "code",
   "execution_count": 64,
   "metadata": {},
   "outputs": [
    {
     "name": "stdout",
     "output_type": "stream",
     "text": [
      "Week 1 MAE 0.165 F1 0.654\n",
      "Week 2 MAE 0.236 F1 0.612\n",
      "Week 3 MAE 0.289 F1 0.573\n",
      "Week 4 MAE 0.345 F1 0.536\n",
      "Week 5 MAE 0.39 F1 0.501\n",
      "Week 6 MAE 0.427 F1 0.463\n"
     ]
    }
   ],
   "source": [
    "for w in range(6):\n",
    "    wdf = df[df['week']==w]\n",
    "    mae = mean_absolute_error(wdf['y_true'], wdf['y_pred']).round(3)\n",
    "    f1 = f1_score(wdf['y_true'].round(),wdf['y_pred'].round(), average='macro').round(3)\n",
    "    print(f\"Week {w+1}\", f\"MAE {mae}\", f\"F1 {f1}\")"
   ]
  },
  {
   "cell_type": "code",
   "execution_count": 65,
   "metadata": {},
   "outputs": [
    {
     "name": "stdout",
     "output_type": "stream",
     "text": [
      "Category 0\n",
      "0.890967519798003\n",
      "Category 1\n",
      "0.5613342898134863\n",
      "Category 2\n",
      "0.515625\n",
      "Category 3\n",
      "0.5720081135902637\n",
      "Category 4\n",
      "0.5646123260437376\n",
      "Category 5\n",
      "0.6875\n"
     ]
    }
   ],
   "source": [
    "for cat in sorted(df[\"y_true\"].round().astype(int).unique()):\n",
    "    df_cat = df[df[\"y_true\"].round().astype(int) == cat]\n",
    "    print(f\"Category {cat}\")\n",
    "    print((df_cat[\"y_true\"].round() == df_cat[\"y_pred\"].round()).mean())"
   ]
  },
  {
   "cell_type": "code",
   "execution_count": 66,
   "metadata": {},
   "outputs": [
    {
     "name": "stdout",
     "output_type": "stream",
     "text": [
      "[np.float64(0.890967519798003), np.float64(0.5613342898134863), np.float64(0.515625), np.float64(0.5720081135902637), np.float64(0.5646123260437376), np.float64(0.6875)]\n"
     ]
    },
    {
     "data": {
      "image/png": "[encoded data removed]",
      "text/plain": [
       "<Figure size 640x480 with 1 Axes>"
      ]
     },
     "metadata": {},
     "output_type": "display_data"
    }
   ],
   "source": [
    "#accuracy bar plot for each category\n",
    "accuracy = []\n",
    "for cat in sorted(df[\"y_true\"].round().astype(int).unique()):\n",
    "    df_cat = df[df[\"y_true\"].round().astype(int) == cat]\n",
    "    accuracy.append((df_cat[\"y_true\"].round() == df_cat[\"y_pred\"].round()).mean())\n",
    "plt.bar(sorted(df[\"y_true\"].round().astype(int).unique()), accuracy)\n",
    "\n",
    "print(accuracy)"
   ]
  },
  {
   "cell_type": "code",
   "execution_count": 67,
   "metadata": {},
   "outputs": [],
   "source": [
    "from sklearn.metrics import roc_auc_score, root_mean_squared_error, mean_squared_error"
   ]
  },
  {
   "cell_type": "code",
   "execution_count": 76,
   "metadata": {},
   "outputs": [
    {
     "data": {
      "text/plain": [
       "Text(0.5, 1.0, 'Mean Squared Error for each week')"
      ]
     },
     "execution_count": 76,
     "metadata": {},
     "output_type": "execute_result"
    },
    {
     "data": {
      "image/png": "[encoded data removed]",
      "text/plain": [
       "<Figure size 640x480 with 1 Axes>"
      ]
     },
     "metadata": {},
     "output_type": "display_data"
    }
   ],
   "source": [
    "# MAE plot for each week\n",
    "mse = []\n",
    "for w in range(6):\n",
    "    wdf = df[df['week']==w]\n",
    "    mse.append(mean_squared_error(wdf['y_true'], wdf['y_pred']))\n",
    "plt.bar(range(1,7), mse)\n",
    "plt.title(\"Mean Squared Error for each week\")"
   ]
  },
  {
   "cell_type": "code",
   "execution_count": 73,
   "metadata": {},
   "outputs": [
    {
     "data": {
      "text/plain": [
       "Text(0.5, 1.0, 'F1 score for each week')"
      ]
     },
     "execution_count": 73,
     "metadata": {},
     "output_type": "execute_result"
    },
    {
     "data": {
      "image/png": "[encoded data removed]",
      "text/plain": [
       "<Figure size 640x480 with 1 Axes>"
      ]
     },
     "metadata": {},
     "output_type": "display_data"
    }
   ],
   "source": [
    "# F1 plot for each week\n",
    "f1 = []\n",
    "for w in range(6):\n",
    "    wdf = df[df['week']==w]\n",
    "    f1.append(f1_score(wdf['y_true'].round(),wdf['y_pred'].round(), average='macro'))\n",
    "plt.bar(range(1,7), f1)\n",
    "plt.title(\"F1 score for each week\")"
   ]
  },
  {
   "cell_type": "code",
   "execution_count": 70,
   "metadata": {},
   "outputs": [
    {
     "name": "stdout",
     "output_type": "stream",
     "text": [
      "  MAE  | RMSE  |  F1  \n",
      "0.3086914665218569 | 0.486893228688281 | 0.5555733728957736\n"
     ]
    }
   ],
   "source": [
    "y_true_roc = df['y_true'].round()\n",
    "y_pred_roc = df['y_pred'].round()\n",
    "mae = mean_absolute_error(df['y_true'], df['y_pred'])\n",
    "rmse = root_mean_squared_error(df['y_true'], df['y_pred'])\n",
    "f1 = f1_score(y_true_roc, y_pred_roc, average='macro')\n",
    "# do a table using print in the terminal\n",
    "print(\"  MAE  | RMSE  |  F1  \")\n",
    "print(f\"{mae} | {rmse} | {f1}\")"
   ]
  },
  {
   "cell_type": "code",
   "execution_count": 71,
   "metadata": {},
   "outputs": [
    {
     "data": {
      "text/plain": [
       "array([0., 1., 2., 5., 3., 4., 6.])"
      ]
     },
     "execution_count": 71,
     "metadata": {},
     "output_type": "execute_result"
    }
   ],
   "source": [
    "y_pred_roc.unique()"
   ]
  },
  {
   "cell_type": "code",
   "execution_count": 72,
   "metadata": {},
   "outputs": [
    {
     "data": {
      "text/plain": [
       "(array([5.000e+00, 1.000e+00, 2.000e+00, 2.000e+00, 2.000e+00, 6.000e+00,\n",
       "        1.100e+01, 1.200e+01, 9.000e+00, 2.800e+01, 2.000e+01, 3.900e+01,\n",
       "        7.500e+01, 9.900e+01, 1.690e+02, 2.180e+02, 3.160e+02, 7.570e+02,\n",
       "        1.570e+03, 3.451e+03, 4.230e+03, 9.280e+02, 7.550e+02, 5.620e+02,\n",
       "        4.990e+02, 4.670e+02, 2.440e+02, 1.250e+02, 6.500e+01, 4.800e+01,\n",
       "        5.300e+01, 5.600e+01, 1.900e+01, 9.000e+00, 3.000e+00, 3.000e+00,\n",
       "        2.000e+00, 1.000e+00, 0.000e+00, 1.000e+00]),\n",
       " array([-3.32589602, -3.16205207, -2.99820811, -2.83436416, -2.6705202 ,\n",
       "        -2.50667625, -2.34283229, -2.17898834, -2.01514438, -1.85130043,\n",
       "        -1.68745647, -1.52361252, -1.35976856, -1.19592461, -1.03208065,\n",
       "        -0.8682367 , -0.70439274, -0.54054879, -0.37670483, -0.21286088,\n",
       "        -0.04901692,  0.11482703,  0.27867099,  0.44251494,  0.6063589 ,\n",
       "         0.77020285,  0.93404681,  1.09789076,  1.26173472,  1.42557867,\n",
       "         1.58942263,  1.75326658,  1.91711054,  2.08095449,  2.24479845,\n",
       "         2.4086424 ,  2.57248636,  2.73633031,  2.90017427,  3.06401822,\n",
       "         3.22786218]),\n",
       " <BarContainer object of 40 artists>)"
      ]
     },
     "execution_count": 72,
     "metadata": {},
     "output_type": "execute_result"
    },
    {
     "data": {
      "image/png": "[encoded data removed]",
      "text/plain": [
       "<Figure size 1000x600 with 1 Axes>"
      ]
     },
     "metadata": {},
     "output_type": "display_data"
    }
   ],
   "source": [
    "# Error distribution\n",
    "plt.figure(figsize=(10, 6))\n",
    "plt.hist((df['y_true'] - df['y_pred']), bins=40, alpha=0.7, label='error')"
   ]
  }
 ],
 "metadata": {
  "kernelspec": {
   "display_name": "drought",
   "language": "python",
   "name": "python3"
  },
  "language_info": {
   "codemirror_mode": {
    "name": "ipython",
    "version": 3
   },
   "file_extension": ".py",
   "mimetype": "text/x-python",
   "name": "python",
   "nbconvert_exporter": "python",
   "pygments_lexer": "ipython3",
   "version": "3.10.14"
  }
 },
 "nbformat": 4,
 "nbformat_minor": 2
}
